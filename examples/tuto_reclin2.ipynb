{
 "cells": [
  {
   "cell_type": "markdown",
   "id": "be24af24-fd0e-446f-9972-af9ec624702c",
   "metadata": {},
   "source": [
    "# Notebook de prise en main du package reclin2"
   ]
  },
  {
   "cell_type": "markdown",
   "id": "27d34f55-9dee-470c-ac78-50ca9f37e937",
   "metadata": {},
   "source": [
    "Ce notebook vise à présenter le fonctionnement du package R reclin2 et les possibilités qu'il offre. Le package reclin2 est un outil  permettant de mettre en oeuvre des appariements probabilistes via la méthode de Fellegi et Sunter. Il propose également diverses fonctions auxiliaires pour faciliter la mise en œuvre de toutes les étapes d'un appariement.\n",
    "\n",
    "Les données utilisées sont des données synthétiques issues du [générateur de données synthétiques du package FEBRL](https://users.cecs.anu.edu.au/~Peter.Christen/Febrl/febrl-0.3/febrldoc-0.3/node70.html). Deux fichiers sont disponibles. Le premier fichier contient 5000 individus fictifs dont les traits d'identité (nom, prénom, date de naissance, etc.) proviennent de tables de fréquence tirés d'annuaires téléphoniques australiens. Le second fichier contient les mêmes 5000 individus, mais avec des erreurs sur les traits d'identité (substitution de caractères, suppression d'une valeur, remplacement par des variantes communes d'orthographe, etc.).\n",
    "\n",
    "La documentation du package reclin2 est disponible [ici](https://cran.r-project.org/web/packages/reclin2/reclin2.pdf). Des tutoriels officiels sont également accessibles depuis [la page github du package](https://github.com/djvanderlaan/reclin2).\n",
    "\n",
    "Les différents termes techniques et notions évoquées dans ce notebook sont définis dans le document de travail associé."
   ]
  },
  {
   "cell_type": "markdown",
   "id": "94c04d41-2664-4e05-9347-e0006ac94011",
   "metadata": {},
   "source": [
    "## Import des librairies et chargement des données"
   ]
  },
  {
   "cell_type": "code",
   "execution_count": 1,
   "id": "6671f004-4d1d-42e8-ba46-47c7f3fc668e",
   "metadata": {
    "tags": []
   },
   "outputs": [
    {
     "name": "stderr",
     "output_type": "stream",
     "text": [
      "Installing package into ‘/usr/local/lib/R/site-library’\n",
      "(as ‘lib’ is unspecified)\n",
      "\n"
     ]
    }
   ],
   "source": [
    "### Installation du package\n",
    "install.packages('reclin2')"
   ]
  },
  {
   "cell_type": "code",
   "execution_count": 2,
   "id": "13b86467-2892-49e4-9252-72881a98cdfa",
   "metadata": {
    "tags": []
   },
   "outputs": [
    {
     "name": "stderr",
     "output_type": "stream",
     "text": [
      "Loading required package: data.table\n",
      "\n",
      "\n",
      "Attaching package: ‘reclin2’\n",
      "\n",
      "\n",
      "The following object is masked from ‘package:base’:\n",
      "\n",
      "    identical\n",
      "\n",
      "\n"
     ]
    }
   ],
   "source": [
    "### Import des packages nécessaires\n",
    "library(reclin2)\n",
    "library(plyr)"
   ]
  },
  {
   "cell_type": "markdown",
   "id": "b82cb951-fb45-4e33-a038-fbe5c8a782be",
   "metadata": {},
   "source": [
    "Si vous ne disposez pas déjà des données, il faut décommenter et exécuter les lignes de code ci-dessous pour les télécharger."
   ]
  },
  {
   "cell_type": "code",
   "execution_count": 3,
   "id": "8cf328c9-1a9a-4992-836c-9817014e4350",
   "metadata": {
    "tags": []
   },
   "outputs": [],
   "source": [
    "### Téléchargement des données\n",
    "#url <- \"https://raw.githubusercontent.com/InseeFrLab/appariement/main/data/data_febrl_5000_A.csv\"\n",
    "#destfile <- \"../data/data_febrl_5000_A.csv\"\n",
    "#download.file(url, destfile)\n",
    "#url <- \"https://raw.githubusercontent.com/InseeFrLab/appariement/main/data/data_febrl_5000_B.csv\"\n",
    "#destfile <- \"../data/data_febrl_5000_B.csv\"\n",
    "#download.file(url, destfile)"
   ]
  },
  {
   "cell_type": "code",
   "execution_count": 4,
   "id": "f07d446e-47be-4db8-b458-f8045ee75039",
   "metadata": {
    "tags": []
   },
   "outputs": [],
   "source": [
    "### Chargement des données\n",
    "dfA <- read.csv('data_febrl_5000_A.csv')\n",
    "dfB <- read.csv('data_febrl_5000_B.csv')"
   ]
  },
  {
   "cell_type": "code",
   "execution_count": 5,
   "id": "d4ca38c4-5418-4a66-abb9-b8c576b5599e",
   "metadata": {
    "tags": []
   },
   "outputs": [],
   "source": [
    "n <- nrow(dfA)"
   ]
  },
  {
   "cell_type": "markdown",
   "id": "4b63deb4-c2d9-4656-93fa-3c5d01342bf8",
   "metadata": {},
   "source": [
    "On peut visualiser les 5 premières lignes des deux fichiers pour observer leur structure."
   ]
  },
  {
   "cell_type": "code",
   "execution_count": 6,
   "id": "d6f43dfb-eab6-45a7-9a88-09e243078402",
   "metadata": {
    "tags": []
   },
   "outputs": [
    {
     "data": {
      "text/html": [
       "<table class=\"dataframe\">\n",
       "<caption>A data.frame: 6 × 11</caption>\n",
       "<thead>\n",
       "\t<tr><th></th><th scope=col>rec_id</th><th scope=col>given_name</th><th scope=col>surname</th><th scope=col>street_number</th><th scope=col>address_1</th><th scope=col>address_2</th><th scope=col>suburb</th><th scope=col>postcode</th><th scope=col>state</th><th scope=col>date_of_birth</th><th scope=col>soc_sec_id</th></tr>\n",
       "\t<tr><th></th><th scope=col>&lt;chr&gt;</th><th scope=col>&lt;chr&gt;</th><th scope=col>&lt;chr&gt;</th><th scope=col>&lt;int&gt;</th><th scope=col>&lt;chr&gt;</th><th scope=col>&lt;chr&gt;</th><th scope=col>&lt;chr&gt;</th><th scope=col>&lt;int&gt;</th><th scope=col>&lt;chr&gt;</th><th scope=col>&lt;int&gt;</th><th scope=col>&lt;int&gt;</th></tr>\n",
       "</thead>\n",
       "<tbody>\n",
       "\t<tr><th scope=row>1</th><td>rec-1070-org</td><td> michaela</td><td> neumann </td><td>  8</td><td> stanley street     </td><td> miami                            </td><td> winston hills   </td><td>4223</td><td> nsw</td><td>19151111</td><td>5304218</td></tr>\n",
       "\t<tr><th scope=row>2</th><td>rec-1016-org</td><td> courtney</td><td> painter </td><td> 12</td><td> pinkerton circuit  </td><td> bega flats                       </td><td> richlands       </td><td>4560</td><td> vic</td><td>19161214</td><td>4066625</td></tr>\n",
       "\t<tr><th scope=row>3</th><td>rec-4405-org</td><td> charles </td><td> green   </td><td> 38</td><td> salkauskas crescent</td><td> kela                             </td><td> dapto           </td><td>4566</td><td> nsw</td><td>19480930</td><td>4365168</td></tr>\n",
       "\t<tr><th scope=row>4</th><td>rec-1288-org</td><td> vanessa </td><td> parr    </td><td>905</td><td> macquoid place     </td><td> broadbridge manor                </td><td> south grafton   </td><td>2135</td><td> sa </td><td>19951119</td><td>9239102</td></tr>\n",
       "\t<tr><th scope=row>5</th><td>rec-3585-org</td><td> mikayla </td><td> malloney</td><td> 37</td><td> randwick road      </td><td> avalind                          </td><td> hoppers crossing</td><td>4552</td><td> vic</td><td>19860208</td><td>7207688</td></tr>\n",
       "\t<tr><th scope=row>6</th><td>rec-298-org </td><td> blake   </td><td> howie   </td><td>  1</td><td> cutlack street     </td><td> belmont park belted galloway stud</td><td> budgewoi        </td><td>6017</td><td> vic</td><td>19250301</td><td>5180548</td></tr>\n",
       "</tbody>\n",
       "</table>\n"
      ],
      "text/latex": [
       "A data.frame: 6 × 11\n",
       "\\begin{tabular}{r|lllllllllll}\n",
       "  & rec\\_id & given\\_name & surname & street\\_number & address\\_1 & address\\_2 & suburb & postcode & state & date\\_of\\_birth & soc\\_sec\\_id\\\\\n",
       "  & <chr> & <chr> & <chr> & <int> & <chr> & <chr> & <chr> & <int> & <chr> & <int> & <int>\\\\\n",
       "\\hline\n",
       "\t1 & rec-1070-org &  michaela &  neumann  &   8 &  stanley street      &  miami                             &  winston hills    & 4223 &  nsw & 19151111 & 5304218\\\\\n",
       "\t2 & rec-1016-org &  courtney &  painter  &  12 &  pinkerton circuit   &  bega flats                        &  richlands        & 4560 &  vic & 19161214 & 4066625\\\\\n",
       "\t3 & rec-4405-org &  charles  &  green    &  38 &  salkauskas crescent &  kela                              &  dapto            & 4566 &  nsw & 19480930 & 4365168\\\\\n",
       "\t4 & rec-1288-org &  vanessa  &  parr     & 905 &  macquoid place      &  broadbridge manor                 &  south grafton    & 2135 &  sa  & 19951119 & 9239102\\\\\n",
       "\t5 & rec-3585-org &  mikayla  &  malloney &  37 &  randwick road       &  avalind                           &  hoppers crossing & 4552 &  vic & 19860208 & 7207688\\\\\n",
       "\t6 & rec-298-org  &  blake    &  howie    &   1 &  cutlack street      &  belmont park belted galloway stud &  budgewoi         & 6017 &  vic & 19250301 & 5180548\\\\\n",
       "\\end{tabular}\n"
      ],
      "text/markdown": [
       "\n",
       "A data.frame: 6 × 11\n",
       "\n",
       "| <!--/--> | rec_id &lt;chr&gt; | given_name &lt;chr&gt; | surname &lt;chr&gt; | street_number &lt;int&gt; | address_1 &lt;chr&gt; | address_2 &lt;chr&gt; | suburb &lt;chr&gt; | postcode &lt;int&gt; | state &lt;chr&gt; | date_of_birth &lt;int&gt; | soc_sec_id &lt;int&gt; |\n",
       "|---|---|---|---|---|---|---|---|---|---|---|---|\n",
       "| 1 | rec-1070-org |  michaela |  neumann  |   8 |  stanley street      |  miami                             |  winston hills    | 4223 |  nsw | 19151111 | 5304218 |\n",
       "| 2 | rec-1016-org |  courtney |  painter  |  12 |  pinkerton circuit   |  bega flats                        |  richlands        | 4560 |  vic | 19161214 | 4066625 |\n",
       "| 3 | rec-4405-org |  charles  |  green    |  38 |  salkauskas crescent |  kela                              |  dapto            | 4566 |  nsw | 19480930 | 4365168 |\n",
       "| 4 | rec-1288-org |  vanessa  |  parr     | 905 |  macquoid place      |  broadbridge manor                 |  south grafton    | 2135 |  sa  | 19951119 | 9239102 |\n",
       "| 5 | rec-3585-org |  mikayla  |  malloney |  37 |  randwick road       |  avalind                           |  hoppers crossing | 4552 |  vic | 19860208 | 7207688 |\n",
       "| 6 | rec-298-org  |  blake    |  howie    |   1 |  cutlack street      |  belmont park belted galloway stud |  budgewoi         | 6017 |  vic | 19250301 | 5180548 |\n",
       "\n"
      ],
      "text/plain": [
       "  rec_id       given_name surname   street_number address_1           \n",
       "1 rec-1070-org  michaela   neumann    8            stanley street     \n",
       "2 rec-1016-org  courtney   painter   12            pinkerton circuit  \n",
       "3 rec-4405-org  charles    green     38            salkauskas crescent\n",
       "4 rec-1288-org  vanessa    parr     905            macquoid place     \n",
       "5 rec-3585-org  mikayla    malloney  37            randwick road      \n",
       "6 rec-298-org   blake      howie      1            cutlack street     \n",
       "  address_2                          suburb            postcode state\n",
       "1  miami                              winston hills    4223      nsw \n",
       "2  bega flats                         richlands        4560      vic \n",
       "3  kela                               dapto            4566      nsw \n",
       "4  broadbridge manor                  south grafton    2135      sa  \n",
       "5  avalind                            hoppers crossing 4552      vic \n",
       "6  belmont park belted galloway stud  budgewoi         6017      vic \n",
       "  date_of_birth soc_sec_id\n",
       "1 19151111      5304218   \n",
       "2 19161214      4066625   \n",
       "3 19480930      4365168   \n",
       "4 19951119      9239102   \n",
       "5 19860208      7207688   \n",
       "6 19250301      5180548   "
      ]
     },
     "metadata": {},
     "output_type": "display_data"
    }
   ],
   "source": [
    "head(dfA)"
   ]
  },
  {
   "cell_type": "code",
   "execution_count": 7,
   "id": "0cccf8b0-4653-4019-97da-5b19cb2453b7",
   "metadata": {
    "tags": []
   },
   "outputs": [
    {
     "data": {
      "text/html": [
       "<table class=\"dataframe\">\n",
       "<caption>A data.frame: 6 × 11</caption>\n",
       "<thead>\n",
       "\t<tr><th></th><th scope=col>rec_id</th><th scope=col>given_name</th><th scope=col>surname</th><th scope=col>street_number</th><th scope=col>address_1</th><th scope=col>address_2</th><th scope=col>suburb</th><th scope=col>postcode</th><th scope=col>state</th><th scope=col>date_of_birth</th><th scope=col>soc_sec_id</th></tr>\n",
       "\t<tr><th></th><th scope=col>&lt;chr&gt;</th><th scope=col>&lt;chr&gt;</th><th scope=col>&lt;chr&gt;</th><th scope=col>&lt;int&gt;</th><th scope=col>&lt;chr&gt;</th><th scope=col>&lt;chr&gt;</th><th scope=col>&lt;chr&gt;</th><th scope=col>&lt;int&gt;</th><th scope=col>&lt;chr&gt;</th><th scope=col>&lt;int&gt;</th><th scope=col>&lt;int&gt;</th></tr>\n",
       "</thead>\n",
       "<tbody>\n",
       "\t<tr><th scope=row>1</th><td>rec-561-dup-0 </td><td> elton   </td><td>          </td><td> 3</td><td> light setreet       </td><td> pinehill          </td><td> windermere       </td><td>3212</td><td> vic</td><td>19651013</td><td>1551941</td></tr>\n",
       "\t<tr><th scope=row>2</th><td>rec-2642-dup-0</td><td> mitchell</td><td> maxon    </td><td>47</td><td> edkins street       </td><td> lochaoair         </td><td> north ryde       </td><td>3355</td><td> nsw</td><td>19390212</td><td>8859999</td></tr>\n",
       "\t<tr><th scope=row>3</th><td>rec-608-dup-0 </td><td>         </td><td> white    </td><td>72</td><td> lambrigg street     </td><td> kelgoola          </td><td> broadbeach waters</td><td>3159</td><td> vic</td><td>19620216</td><td>9731855</td></tr>\n",
       "\t<tr><th scope=row>4</th><td>rec-3239-dup-0</td><td> elk i   </td><td> menzies  </td><td> 1</td><td> lyster place        </td><td>                   </td><td> northwood        </td><td>2585</td><td> vic</td><td>19980624</td><td>4970481</td></tr>\n",
       "\t<tr><th scope=row>5</th><td>rec-2886-dup-0</td><td>         </td><td> garanggar</td><td>NA</td><td> may maxwell crescent</td><td> springettst arcade</td><td> forest hill      </td><td>2342</td><td> vic</td><td>19921016</td><td>1366884</td></tr>\n",
       "\t<tr><th scope=row>6</th><td>rec-4285-dup-0</td><td> sophie  </td><td> manson   </td><td>14</td><td> elizabeth xrescent  </td><td> manorhouse        </td><td> gorokan          </td><td>3465</td><td> vic</td><td>19510201</td><td>4818868</td></tr>\n",
       "</tbody>\n",
       "</table>\n"
      ],
      "text/latex": [
       "A data.frame: 6 × 11\n",
       "\\begin{tabular}{r|lllllllllll}\n",
       "  & rec\\_id & given\\_name & surname & street\\_number & address\\_1 & address\\_2 & suburb & postcode & state & date\\_of\\_birth & soc\\_sec\\_id\\\\\n",
       "  & <chr> & <chr> & <chr> & <int> & <chr> & <chr> & <chr> & <int> & <chr> & <int> & <int>\\\\\n",
       "\\hline\n",
       "\t1 & rec-561-dup-0  &  elton    &            &  3 &  light setreet        &  pinehill           &  windermere        & 3212 &  vic & 19651013 & 1551941\\\\\n",
       "\t2 & rec-2642-dup-0 &  mitchell &  maxon     & 47 &  edkins street        &  lochaoair          &  north ryde        & 3355 &  nsw & 19390212 & 8859999\\\\\n",
       "\t3 & rec-608-dup-0  &           &  white     & 72 &  lambrigg street      &  kelgoola           &  broadbeach waters & 3159 &  vic & 19620216 & 9731855\\\\\n",
       "\t4 & rec-3239-dup-0 &  elk i    &  menzies   &  1 &  lyster place         &                     &  northwood         & 2585 &  vic & 19980624 & 4970481\\\\\n",
       "\t5 & rec-2886-dup-0 &           &  garanggar & NA &  may maxwell crescent &  springettst arcade &  forest hill       & 2342 &  vic & 19921016 & 1366884\\\\\n",
       "\t6 & rec-4285-dup-0 &  sophie   &  manson    & 14 &  elizabeth xrescent   &  manorhouse         &  gorokan           & 3465 &  vic & 19510201 & 4818868\\\\\n",
       "\\end{tabular}\n"
      ],
      "text/markdown": [
       "\n",
       "A data.frame: 6 × 11\n",
       "\n",
       "| <!--/--> | rec_id &lt;chr&gt; | given_name &lt;chr&gt; | surname &lt;chr&gt; | street_number &lt;int&gt; | address_1 &lt;chr&gt; | address_2 &lt;chr&gt; | suburb &lt;chr&gt; | postcode &lt;int&gt; | state &lt;chr&gt; | date_of_birth &lt;int&gt; | soc_sec_id &lt;int&gt; |\n",
       "|---|---|---|---|---|---|---|---|---|---|---|---|\n",
       "| 1 | rec-561-dup-0  |  elton    | <!----> |  3 |  light setreet        |  pinehill           |  windermere        | 3212 |  vic | 19651013 | 1551941 |\n",
       "| 2 | rec-2642-dup-0 |  mitchell |  maxon     | 47 |  edkins street        |  lochaoair          |  north ryde        | 3355 |  nsw | 19390212 | 8859999 |\n",
       "| 3 | rec-608-dup-0  | <!----> |  white     | 72 |  lambrigg street      |  kelgoola           |  broadbeach waters | 3159 |  vic | 19620216 | 9731855 |\n",
       "| 4 | rec-3239-dup-0 |  elk i    |  menzies   |  1 |  lyster place         | <!----> |  northwood         | 2585 |  vic | 19980624 | 4970481 |\n",
       "| 5 | rec-2886-dup-0 | <!----> |  garanggar | NA |  may maxwell crescent |  springettst arcade |  forest hill       | 2342 |  vic | 19921016 | 1366884 |\n",
       "| 6 | rec-4285-dup-0 |  sophie   |  manson    | 14 |  elizabeth xrescent   |  manorhouse         |  gorokan           | 3465 |  vic | 19510201 | 4818868 |\n",
       "\n"
      ],
      "text/plain": [
       "  rec_id         given_name surname    street_number address_1            \n",
       "1 rec-561-dup-0   elton                 3             light setreet       \n",
       "2 rec-2642-dup-0  mitchell   maxon     47             edkins street       \n",
       "3 rec-608-dup-0              white     72             lambrigg street     \n",
       "4 rec-3239-dup-0  elk i      menzies    1             lyster place        \n",
       "5 rec-2886-dup-0             garanggar NA             may maxwell crescent\n",
       "6 rec-4285-dup-0  sophie     manson    14             elizabeth xrescent  \n",
       "  address_2           suburb             postcode state date_of_birth\n",
       "1  pinehill            windermere        3212      vic  19651013     \n",
       "2  lochaoair           north ryde        3355      nsw  19390212     \n",
       "3  kelgoola            broadbeach waters 3159      vic  19620216     \n",
       "4                      northwood         2585      vic  19980624     \n",
       "5  springettst arcade  forest hill       2342      vic  19921016     \n",
       "6  manorhouse          gorokan           3465      vic  19510201     \n",
       "  soc_sec_id\n",
       "1 1551941   \n",
       "2 8859999   \n",
       "3 9731855   \n",
       "4 4970481   \n",
       "5 1366884   \n",
       "6 4818868   "
      ]
     },
     "metadata": {},
     "output_type": "display_data"
    }
   ],
   "source": [
    "head(dfB)"
   ]
  },
  {
   "cell_type": "markdown",
   "id": "85f20be4-9704-408c-9c01-b81c531dd0ac",
   "metadata": {},
   "source": [
    "## Appariement étape par étape"
   ]
  },
  {
   "cell_type": "markdown",
   "id": "3904ed8f-e4a3-49b1-8a63-59a610f29ca3",
   "metadata": {},
   "source": [
    "### Préparation des données"
   ]
  },
  {
   "cell_type": "markdown",
   "id": "1b4d4fe4-390c-4c74-90cc-1d4d03059e8a",
   "metadata": {},
   "source": [
    "En général, la première étape d'un appariement consiste en une succession de traitements pour nettoyer les données. Ici, les données synthétiques utilisées sont déjà dans un format satisfaisant (uniquement des caractères minuscules, pas d'accents, etc.). On va donc simplement calculer de nouvelles variables à partir de celles déjà existantes.\n",
    "\n",
    "La variable \"année de naissance\", calculée à partir de la date de naissance, sera utile pour l'étape de réduction du nombre de paires."
   ]
  },
  {
   "cell_type": "code",
   "execution_count": 8,
   "id": "7db499b2-f146-4ae3-ac3b-bb2fccacad54",
   "metadata": {
    "tags": []
   },
   "outputs": [],
   "source": [
    "### Ajout d'une variable année de naissance\n",
    "dfA$birthyear <- as.numeric(substr(dfA$date_of_birth, start = 1, stop = 4))\n",
    "dfB$birthyear <- as.numeric(substr(dfB$date_of_birth, start = 1, stop = 4))"
   ]
  },
  {
   "cell_type": "markdown",
   "id": "414f664b-6054-4215-9a7a-c744fe48dd03",
   "metadata": {},
   "source": [
    "Puisque ces données synthétiques ont été générées spécialement pour tester des appariements, on connaît et on peut retrouver toutes les paires d'individus identiques. Pour évaluer la qualité de l'appariement à la fin du processus, il sera utile d'avoir un identifiant commun pour les deux fichiers.\n",
    "\n",
    "En effet, les identifiants dans les deux fichiers ont des formes légèrement différentes. Pour le fichier A, l'identifiant prend la forme \"rec-\\*\\*\\*\\*-org\" ; tandis que pour le fichier B, il se présente comme suit : \"rec-\\*\\*\\*\\*-dup-0\".\n",
    "On crée un identifiant commun aux deux fichiers en ne conservant que \"rec-\\*\\*\\*\\*\""
   ]
  },
  {
   "cell_type": "code",
   "execution_count": 9,
   "id": "340cf97d-ed90-4f55-b6b2-52626b19790b",
   "metadata": {
    "tags": []
   },
   "outputs": [],
   "source": [
    "### Création d'un identifiant commun \n",
    "dfA$rec_id_stripped <- substr(dfA$rec_id, 1, nchar(dfA$rec_id)-4)\n",
    "dfB$rec_id_stripped <- substr(dfB$rec_id, 1, nchar(dfB$rec_id)-6)"
   ]
  },
  {
   "cell_type": "markdown",
   "id": "dabdff05-7c3c-4f5b-a53e-9dffee1e34ef",
   "metadata": {},
   "source": [
    "Il est utile de compter les valeurs manquantes dans chaque colonne afin de déterminer quels champs sont affectés et si le nombre de valeurs manquantes est élevé ou négligeable. Ici, les champs `street_number`, `postcode` et `date_of_birth` possèdent des valeurs manquantes."
   ]
  },
  {
   "cell_type": "code",
   "execution_count": 10,
   "id": "6cbd39bb-8c43-4ee6-83db-fafc910f1586",
   "metadata": {
    "tags": []
   },
   "outputs": [
    {
     "data": {
      "text/html": [
       "<style>\n",
       ".dl-inline {width: auto; margin:0; padding: 0}\n",
       ".dl-inline>dt, .dl-inline>dd {float: none; width: auto; display: inline-block}\n",
       ".dl-inline>dt::after {content: \":\\0020\"; padding-right: .5ex}\n",
       ".dl-inline>dt:not(:first-of-type) {padding-left: .5ex}\n",
       "</style><dl class=dl-inline><dt>rec_id</dt><dd>0</dd><dt>given_name</dt><dd>0</dd><dt>surname</dt><dd>0</dd><dt>street_number</dt><dd>158</dd><dt>address_1</dt><dd>0</dd><dt>address_2</dt><dd>0</dd><dt>suburb</dt><dd>0</dd><dt>postcode</dt><dd>0</dd><dt>state</dt><dd>0</dd><dt>date_of_birth</dt><dd>94</dd><dt>soc_sec_id</dt><dd>0</dd><dt>birthyear</dt><dd>94</dd><dt>rec_id_stripped</dt><dd>0</dd></dl>\n"
      ],
      "text/latex": [
       "\\begin{description*}\n",
       "\\item[rec\\textbackslash{}\\_id] 0\n",
       "\\item[given\\textbackslash{}\\_name] 0\n",
       "\\item[surname] 0\n",
       "\\item[street\\textbackslash{}\\_number] 158\n",
       "\\item[address\\textbackslash{}\\_1] 0\n",
       "\\item[address\\textbackslash{}\\_2] 0\n",
       "\\item[suburb] 0\n",
       "\\item[postcode] 0\n",
       "\\item[state] 0\n",
       "\\item[date\\textbackslash{}\\_of\\textbackslash{}\\_birth] 94\n",
       "\\item[soc\\textbackslash{}\\_sec\\textbackslash{}\\_id] 0\n",
       "\\item[birthyear] 94\n",
       "\\item[rec\\textbackslash{}\\_id\\textbackslash{}\\_stripped] 0\n",
       "\\end{description*}\n"
      ],
      "text/markdown": [
       "rec_id\n",
       ":   0given_name\n",
       ":   0surname\n",
       ":   0street_number\n",
       ":   158address_1\n",
       ":   0address_2\n",
       ":   0suburb\n",
       ":   0postcode\n",
       ":   0state\n",
       ":   0date_of_birth\n",
       ":   94soc_sec_id\n",
       ":   0birthyear\n",
       ":   94rec_id_stripped\n",
       ":   0\n",
       "\n"
      ],
      "text/plain": [
       "         rec_id      given_name         surname   street_number       address_1 \n",
       "              0               0               0             158               0 \n",
       "      address_2          suburb        postcode           state   date_of_birth \n",
       "              0               0               0               0              94 \n",
       "     soc_sec_id       birthyear rec_id_stripped \n",
       "              0              94               0 "
      ]
     },
     "metadata": {},
     "output_type": "display_data"
    },
    {
     "data": {
      "text/html": [
       "<style>\n",
       ".dl-inline {width: auto; margin:0; padding: 0}\n",
       ".dl-inline>dt, .dl-inline>dd {float: none; width: auto; display: inline-block}\n",
       ".dl-inline>dt::after {content: \":\\0020\"; padding-right: .5ex}\n",
       ".dl-inline>dt:not(:first-of-type) {padding-left: .5ex}\n",
       "</style><dl class=dl-inline><dt>rec_id</dt><dd>0</dd><dt>given_name</dt><dd>0</dd><dt>surname</dt><dd>0</dd><dt>street_number</dt><dd>287</dd><dt>address_1</dt><dd>0</dd><dt>address_2</dt><dd>0</dd><dt>suburb</dt><dd>0</dd><dt>postcode</dt><dd>0</dd><dt>state</dt><dd>0</dd><dt>date_of_birth</dt><dd>199</dd><dt>soc_sec_id</dt><dd>0</dd><dt>birthyear</dt><dd>199</dd><dt>rec_id_stripped</dt><dd>0</dd></dl>\n"
      ],
      "text/latex": [
       "\\begin{description*}\n",
       "\\item[rec\\textbackslash{}\\_id] 0\n",
       "\\item[given\\textbackslash{}\\_name] 0\n",
       "\\item[surname] 0\n",
       "\\item[street\\textbackslash{}\\_number] 287\n",
       "\\item[address\\textbackslash{}\\_1] 0\n",
       "\\item[address\\textbackslash{}\\_2] 0\n",
       "\\item[suburb] 0\n",
       "\\item[postcode] 0\n",
       "\\item[state] 0\n",
       "\\item[date\\textbackslash{}\\_of\\textbackslash{}\\_birth] 199\n",
       "\\item[soc\\textbackslash{}\\_sec\\textbackslash{}\\_id] 0\n",
       "\\item[birthyear] 199\n",
       "\\item[rec\\textbackslash{}\\_id\\textbackslash{}\\_stripped] 0\n",
       "\\end{description*}\n"
      ],
      "text/markdown": [
       "rec_id\n",
       ":   0given_name\n",
       ":   0surname\n",
       ":   0street_number\n",
       ":   287address_1\n",
       ":   0address_2\n",
       ":   0suburb\n",
       ":   0postcode\n",
       ":   0state\n",
       ":   0date_of_birth\n",
       ":   199soc_sec_id\n",
       ":   0birthyear\n",
       ":   199rec_id_stripped\n",
       ":   0\n",
       "\n"
      ],
      "text/plain": [
       "         rec_id      given_name         surname   street_number       address_1 \n",
       "              0               0               0             287               0 \n",
       "      address_2          suburb        postcode           state   date_of_birth \n",
       "              0               0               0               0             199 \n",
       "     soc_sec_id       birthyear rec_id_stripped \n",
       "              0             199               0 "
      ]
     },
     "metadata": {},
     "output_type": "display_data"
    }
   ],
   "source": [
    "### Comptage des valeurs manquantes par colonne\n",
    "sapply(dfA, function(x) sum(is.na(x)))\n",
    "sapply(dfB, function(x) sum(is.na(x)))"
   ]
  },
  {
   "cell_type": "markdown",
   "id": "37ab0268-4f7e-498b-a667-49e16ffda8ae",
   "metadata": {},
   "source": [
    "### Réduction du nombre de paires"
   ]
  },
  {
   "cell_type": "markdown",
   "id": "2cd7cc2e-a32d-47da-9add-f786d6fa2896",
   "metadata": {},
   "source": [
    "Il s'agit maintenant de choisir les paires qui vont être comparées. Une première possibilité est de considérer l'ensemble des paires du produit cartésien des deux fichiers."
   ]
  },
  {
   "cell_type": "code",
   "execution_count": 11,
   "id": "57b05b31-dc5e-4149-b498-a811c9eaa3c4",
   "metadata": {
    "tags": []
   },
   "outputs": [],
   "source": [
    "pairs <- pair(dfA, dfB)"
   ]
  },
  {
   "cell_type": "code",
   "execution_count": 12,
   "id": "4009bb14-a674-4fbb-b29a-140ca8401825",
   "metadata": {
    "tags": []
   },
   "outputs": [
    {
     "name": "stdout",
     "output_type": "stream",
     "text": [
      "  First data set:  5 000 records\n",
      "  Second data set: 5 000 records\n",
      "  Total number of pairs: 25 000 000 pairs\n",
      "\n",
      "            .x   .y\n",
      "       1:    1    1\n",
      "       2:    1    2\n",
      "       3:    1    3\n",
      "       4:    1    4\n",
      "       5:    1    5\n",
      "      ---          \n",
      "24999996: 5000 4996\n",
      "24999997: 5000 4997\n",
      "24999998: 5000 4998\n",
      "24999999: 5000 4999\n",
      "25000000: 5000 5000\n"
     ]
    }
   ],
   "source": [
    "### Conservation de toutes les paires\n",
    "print(pairs)"
   ]
  },
  {
   "cell_type": "markdown",
   "id": "b65096e6-8c43-4e58-9e72-4bcd74dc99ec",
   "metadata": {},
   "source": [
    "En utilisant cette stratégie sur les deux fichiers d'exemples qui contiennent 5000 lignes, on obtient 25 millions de paires. Dans un cas réel, les fichiers sont souvent plus gros, il devient alors impossible de conserver toutes les paires. Il faut donc trouver un moyen de filtrer. La manière la plus classique, et celle proposée par le package reclin2, est le blocage."
   ]
  },
  {
   "cell_type": "markdown",
   "id": "24780ca6-56c9-452b-84ac-71e5048cffcd",
   "metadata": {},
   "source": [
    "#### Blocage"
   ]
  },
  {
   "cell_type": "markdown",
   "id": "bae1b818-66b3-4606-ae54-f9cc3fd90699",
   "metadata": {},
   "source": [
    "Le blocage consiste à conserver uniquement les paires qui correspondent sur une variable ou une sélection de variables, appelées \"clés de blocage\". Une bonne clé de blocage doit être assez discriminante pour réduire largement la dimension, et de très bonne qualité pour éviter de supprimer des paires d'individus identiques.\n",
    "\n",
    "Dans le package reclin2, le blocage s'effectue via la fonction _pair_blocking_. L'objet retourné contient l'ensemble des paires retenues, ainsi que quelques informations supplémentaires comme le nombre total de paires conservées."
   ]
  },
  {
   "cell_type": "code",
   "execution_count": 13,
   "id": "004aa0da-c956-4203-a597-d024a6febbd9",
   "metadata": {
    "tags": []
   },
   "outputs": [
    {
     "name": "stdout",
     "output_type": "stream",
     "text": [
      "  First data set:  5 000 records\n",
      "  Second data set: 5 000 records\n",
      "  Total number of pairs: 28 609 pairs\n",
      "  Blocking on: 'postcode'\n",
      "\n",
      "         .x   .y\n",
      "    1: 2158 2239\n",
      "    2: 2158 3020\n",
      "    3: 3389 2239\n",
      "    4: 3389 3020\n",
      "    5:  700 1091\n",
      "   ---          \n",
      "28605: 3480 4384\n",
      "28606: 3763  500\n",
      "28607: 3763 2797\n",
      "28608: 3763 4384\n",
      "28609: 4568 1692\n"
     ]
    }
   ],
   "source": [
    "### Blocage simple sur le code postal\n",
    "pairs <- pair_blocking(dfA, dfB, \"postcode\")\n",
    "print(pairs)"
   ]
  },
  {
   "cell_type": "markdown",
   "id": "cda8360b-0edf-4c4a-bc67-b088e93791ae",
   "metadata": {},
   "source": [
    "Il est possible de combiner plusieurs clés de blocage avec une condition \"ET\" en utilisant une liste de variables. Ici, les paires conservées sont celles qui correspondent à la fois sur les variables `postcode` et `birthyear`."
   ]
  },
  {
   "cell_type": "code",
   "execution_count": 14,
   "id": "fa87b669-ca25-4683-93a8-096158c06252",
   "metadata": {
    "tags": []
   },
   "outputs": [
    {
     "name": "stdout",
     "output_type": "stream",
     "text": [
      "  First data set:  5 000 records\n",
      "  Second data set: 5 000 records\n",
      "  Total number of pairs: 4 139 pairs\n",
      "  Blocking on: 'postcode', 'birthyear'\n",
      "\n",
      "        .x   .y\n",
      "   1: 2158 3020\n",
      "   2: 3389 2239\n",
      "   3: 4429 1447\n",
      "   4: 3934 2235\n",
      "   5: 1929 1091\n",
      "  ---          \n",
      "4135: 1533 4021\n",
      "4136: 3155 2797\n",
      "4137: 3763  500\n",
      "4138: 3480 4384\n",
      "4139: 4568 1692\n"
     ]
    }
   ],
   "source": [
    "### Blocage sur le code postal ET l'année de naissance\n",
    "pairs <- pair_blocking(dfA, dfB, c(\"postcode\", \"birthyear\"))\n",
    "print(pairs)"
   ]
  },
  {
   "cell_type": "markdown",
   "id": "cfa0b590-9fb1-4025-a497-561ffca7ae70",
   "metadata": {},
   "source": [
    "Pour combiner les clés de blocage avec une condition \"OU\", il faut utiliser la fonction _merge_pairs_. Ici, les paires conservées sont celles qui correspondent soit sur la variable `postcode`, soit sur la variable `birthyear` (ou sur les deux)."
   ]
  },
  {
   "cell_type": "code",
   "execution_count": 15,
   "id": "9a4d7493-b0c4-4b6f-bc32-e21a138d9da1",
   "metadata": {
    "tags": []
   },
   "outputs": [
    {
     "name": "stdout",
     "output_type": "stream",
     "text": [
      "  First data set:  5 000 records\n",
      "  Second data set: 5 000 records\n",
      "  Total number of pairs: 284 524 pairs\n",
      "\n",
      "          .x   .y\n",
      "     1:    1  268\n",
      "     2:    1  279\n",
      "     3:    1  280\n",
      "     4:    1  442\n",
      "     5:    1  574\n",
      "    ---          \n",
      "284520: 5000 4463\n",
      "284521: 5000 4526\n",
      "284522: 5000 4624\n",
      "284523: 5000 4734\n",
      "284524: 5000 4825\n"
     ]
    }
   ],
   "source": [
    "### Blocage sur le code postal OU la date de naissance\n",
    "pairs <- merge_pairs(\n",
    "  pair_blocking(dfA, dfB, \"postcode\"),\n",
    "  pair_blocking(dfA, dfB, \"birthyear\")\n",
    ")\n",
    "print(pairs)"
   ]
  },
  {
   "cell_type": "markdown",
   "id": "0b1de0fc-a6f0-49cd-b4f8-947dbed88928",
   "metadata": {},
   "source": [
    "Pour la suite de ce tutoriel, nous allons utiliser un blocage simple sur le code postal."
   ]
  },
  {
   "cell_type": "code",
   "execution_count": 16,
   "id": "d9f24bd0-d348-4179-914b-e0132d5e7f15",
   "metadata": {
    "tags": []
   },
   "outputs": [
    {
     "name": "stdout",
     "output_type": "stream",
     "text": [
      "  First data set:  5 000 records\n",
      "  Second data set: 5 000 records\n",
      "  Total number of pairs: 28 609 pairs\n",
      "  Blocking on: 'postcode'\n",
      "\n",
      "         .x   .y\n",
      "    1: 2158 2239\n",
      "    2: 2158 3020\n",
      "    3: 3389 2239\n",
      "    4: 3389 3020\n",
      "    5:  700 1091\n",
      "   ---          \n",
      "28605: 3480 4384\n",
      "28606: 3763  500\n",
      "28607: 3763 2797\n",
      "28608: 3763 4384\n",
      "28609: 4568 1692\n"
     ]
    }
   ],
   "source": [
    "### Blocage simple sur le code postal\n",
    "pairs <- pair_blocking(dfA, dfB, \"postcode\")\n",
    "print(pairs)"
   ]
  },
  {
   "cell_type": "markdown",
   "id": "ac6bc90c-8a98-4e7d-917e-79a3ac376388",
   "metadata": {},
   "source": [
    "### Comparaison des champs"
   ]
  },
  {
   "cell_type": "markdown",
   "id": "de1f0089-6d1a-4b84-bd75-693190e5d0c5",
   "metadata": {},
   "source": [
    "L'étape suivante consiste à comparer les paires conservées champ par champ. La fonction _compare_pairs_ permet d'effectuer cette opération. Le package propose les méthodes de comparaison suivantes : \n",
    "- Exacte, via la fonction _identical_\n",
    "- Jaro-Winkler, via la fonction _jaro_winkler_\n",
    "- _Longest common substring_ (proche de la distance de Levenshtein), via la fonction _lcs_\n",
    "- Jaccard, via la fonction _jaccard_\n",
    "\n",
    "Hormis pour la comparaison exacte, ces méthodes de comparaison sont issues des fonctions correspondantes du package stringdist, à une différence près : elles sont transformées en des mesures de similarité plutôt que des distances.\n",
    "\n",
    "Les mesures de similarité renvoient une valeur comprise entre 0 et 1, la valeur 1 indiquant une correspondance parfaite. La méthode de classification probabiliste mise en oeuvre dans ce package nécessite cependant des mesures de comparaison binaires. Il faut donc préciser un seuil, qui sera utilisé pour transformer les variables de comparaison continues, en des variables binaires 0-1. Par exemple, la fonction _jaro_winkler(0.92)_ permet d'effectuer une comparaison via la similarité de Jaro-Winkler et de binariser le résultat en utilisant la valeur seuil de 0.92.\n",
    "\n",
    "Par défaut, ce sont des comparaisons exactes qui sont effectuées. La méthode de comparaison par défaut peut-être modifiée par l'intermédiaire du paramètre `default_comparator`. Il est également possible de spécifier une méthode de comparaison différente pour un ou plusieurs champs donnés, via le paramètre `comparators`.\n",
    "\n",
    "Dans cet exemple, les champs `date_of_birth`, `suburb` et `state` sont comparés de façon exacte, avec un résultat binaire. Les champs `given_name` et `surname` sont comparés via la similarité de Jaro-Winkler, et le résultat est transformé en une variable binaire en fixant un seuil à 0.92. Enfin, c'est la similarité calculée à partir de la méthode de la _longest common substring_ qui est utilisée pour le champ `address_1`, avec un seuil à 0.85 pour binariser.\n",
    "\n",
    "On n'effectue aucune comparaison sur la variable `postcode` ici, puisqu'elle est la seule clé de blocage : ainsi, toutes les paires retenues présentent forcément le même code postal, cette variable ne porte plus d'information."
   ]
  },
  {
   "cell_type": "code",
   "execution_count": 17,
   "id": "54ae2727-1d7a-4e91-97ec-c102ac49360a",
   "metadata": {
    "tags": []
   },
   "outputs": [
    {
     "name": "stdout",
     "output_type": "stream",
     "text": [
      "  First data set:  5 000 records\n",
      "  Second data set: 5 000 records\n",
      "  Total number of pairs: 28 609 pairs\n",
      "  Blocking on: 'postcode'\n",
      "\n",
      "         .x   .y given_name   surname date_of_birth suburb state address_1\n",
      "    1: 2158 2239  0.5396825 0.5777778         FALSE  FALSE FALSE 0.2962963\n",
      "    2: 2158 3020  1.0000000 0.8888889          TRUE   TRUE  TRUE 1.0000000\n",
      "    3: 3389 2239  0.7527778 1.0000000          TRUE   TRUE  TRUE 1.0000000\n",
      "    4: 3389 3020  0.7130952 0.5777778         FALSE  FALSE FALSE 0.2962963\n",
      "    5:  700 1091  0.6666667 0.4365079         FALSE  FALSE FALSE 0.5294118\n",
      "   ---                                                                    \n",
      "28605: 3480 4384  0.4285714 0.4365079          TRUE   TRUE  TRUE 1.0000000\n",
      "28606: 3763  500  1.0000000 0.4559885          TRUE   TRUE  TRUE 0.3846154\n",
      "28607: 3763 2797  0.7037037 0.4642857         FALSE  FALSE  TRUE 0.6153846\n",
      "28608: 3763 4384  0.5886243 0.5238095         FALSE  FALSE FALSE 0.4000000\n",
      "28609: 4568 1692  1.0000000 1.0000000          TRUE  FALSE  TRUE 1.0000000\n"
     ]
    }
   ],
   "source": [
    "### Comparaison des champs\n",
    "compare_pairs(pairs, on = c(\"given_name\", \"surname\", \"date_of_birth\", \"suburb\", \"state\", \"address_1\"), \n",
    "              comparators = list(given_name = jaro_winkler(), surname = jaro_winkler(0.92), address_1 = lcs(0.85)), \n",
    "              default_comparator = identical(), inplace = TRUE)\n",
    "\n",
    "print(pairs)"
   ]
  },
  {
   "cell_type": "markdown",
   "id": "09781c7a-e335-4bc4-8e37-52353109b8ca",
   "metadata": {},
   "source": [
    "Lorsqu'une valeur est manquante, le résultat de la comparaison est aussi une valeur manquante. Cela posera un problème au moment de la classification des paires si ces valeurs sont laissées telles quelles. Ainsi, lorsqu'une valeur est manquante, on fixe la similarité à 0."
   ]
  },
  {
   "cell_type": "code",
   "execution_count": 18,
   "id": "8a040e80-9e70-450d-b74f-eba3aa673e4c",
   "metadata": {
    "tags": []
   },
   "outputs": [],
   "source": [
    "### Correction pour les valeurs manquantes\n",
    "pairs$date_of_birth[is.na(pairs$date_of_birth)] <- FALSE"
   ]
  },
  {
   "cell_type": "markdown",
   "id": "c985bf53-0b66-4376-ba8d-bdbde14eaee9",
   "metadata": {},
   "source": [
    "Voici le résultat de la comparaison des champs sur quelques individus. Les comparaisons n'ont été effectuées  et ne sont donc disponibles que sur les paires d'individus conservées à l'issue de l'étape d'indexation (c'est-à-dire ceux ayant le même code postal dans cet exemple)."
   ]
  },
  {
   "cell_type": "code",
   "execution_count": 19,
   "id": "744d9fb9-1998-4cef-baaf-68d3abc9c396",
   "metadata": {},
   "outputs": [],
   "source": [
    "### Définition d'une fonction pour afficher les mesures de similarité pour un individu donné\n",
    "\n",
    "print_field_comparisons <- function(record_number) {\n",
    "  tryCatch({\n",
    "      # The pairs object uses row numbers as index: find row numbers based on record id\n",
    "      x_rownumber <- which(attributes(pairs)$x$rec_id == paste0(\"rec-\", record_number, \"-org\"))\n",
    "      y_rownumber <- which(attributes(pairs)$y$rec_id == paste0(\"rec-\", record_number, \"-dup-0\"))\n",
    "      \n",
    "      # Create dataframe with the given records from file A and B, \n",
    "      #and the correspondingcomparison measures\n",
    "      df_comp <- t(do.call(plyr::rbind.fill, \n",
    "          list(dfA[dfA$rec_id==paste0(\"rec-\", record_number, \"-org\"),], \n",
    "               dfB[dfB$rec_id==paste0(\"rec-\", record_number, \"-dup-0\"),], \n",
    "              pairs[(pairs$.x == x_rownumber) & (pairs$.y == y_rownumber), ])))\n",
    "      \n",
    "      # Format the dataframe: add column names, remove unnecessary rows\n",
    "      colnames(df_comp) <- df_comp[\"rec_id\",]\n",
    "      colnames(df_comp)[3] <- \"Similarité\"\n",
    "      \n",
    "      rows_to_keep <- c(\"given_name\", \"surname\", \"date_of_birth\", \"address_1\", \"suburb\", \"state\", \"postcode\", \"street_number\", \n",
    "                  \"address_2\", \"soc_sec_id\", \"birthyear\")\n",
    "      df_comp <- df_comp[rows_to_keep, ]\n",
    "      \n",
    "      # Add column with comparison mode\n",
    "      comparison_modes <- data.frame(\n",
    "    \"Modes_de_comparaison\" = \n",
    "    c(\"Jaro-Winkler\", \"Jaro-Winkler\", \"Exact\", \"Longest common substring\", \"Exact\", \"Exact\",\n",
    "      \"Non comparé (clé de blocage)\", \"Non comparé\", \"Non comparé\", \"Non comparé\", \"Non comparé\"),  \n",
    "    row.names = rows_to_keep)\n",
    "\n",
    "    cbind(df_comp, comparison_modes)\n",
    "      \n",
    "  }, error = function(e) {\n",
    "    message(\"Les mesures de comparaison ne sont pas disponibles pour cet individu.\")\n",
    "    return(NULL)\n",
    "  })\n",
    "}"
   ]
  },
  {
   "cell_type": "code",
   "execution_count": 20,
   "id": "3c9c3f40-abf1-4a70-9b12-196a425c49a1",
   "metadata": {
    "tags": []
   },
   "outputs": [
    {
     "data": {
      "text/html": [
       "<table class=\"dataframe\">\n",
       "<caption>A data.frame: 11 × 4</caption>\n",
       "<thead>\n",
       "\t<tr><th></th><th scope=col>rec-1070-org</th><th scope=col>rec-1070-dup-0</th><th scope=col>Similarité</th><th scope=col>Modes_de_comparaison</th></tr>\n",
       "\t<tr><th></th><th scope=col>&lt;chr&gt;</th><th scope=col>&lt;chr&gt;</th><th scope=col>&lt;chr&gt;</th><th scope=col>&lt;chr&gt;</th></tr>\n",
       "</thead>\n",
       "<tbody>\n",
       "\t<tr><th scope=row>given_name</th><td> michaela      </td><td> michafla      </td><td>0.925925925925926</td><td>Jaro-Winkler                </td></tr>\n",
       "\t<tr><th scope=row>surname</th><td> neumann       </td><td> jakimow       </td><td>0.472222222222222</td><td>Jaro-Winkler                </td></tr>\n",
       "\t<tr><th scope=row>date_of_birth</th><td>19151111       </td><td>19151111       </td><td>       1         </td><td>Exact                       </td></tr>\n",
       "\t<tr><th scope=row>address_1</th><td> stanley street</td><td> stanleykstreet</td><td>0.933333333333333</td><td>Longest common substring    </td></tr>\n",
       "\t<tr><th scope=row>suburb</th><td> winston hills </td><td> winstonbhills </td><td>FALSE            </td><td>Exact                       </td></tr>\n",
       "\t<tr><th scope=row>state</th><td> nsw           </td><td>               </td><td>FALSE            </td><td>Exact                       </td></tr>\n",
       "\t<tr><th scope=row>postcode</th><td>4223           </td><td>4223           </td><td>NA               </td><td>Non comparé (clé de blocage)</td></tr>\n",
       "\t<tr><th scope=row>street_number</th><td> 8             </td><td> 8             </td><td>NA               </td><td>Non comparé                 </td></tr>\n",
       "\t<tr><th scope=row>address_2</th><td> miami         </td><td> miami         </td><td>NA               </td><td>Non comparé                 </td></tr>\n",
       "\t<tr><th scope=row>soc_sec_id</th><td>5304218        </td><td>5304218        </td><td>NA               </td><td>Non comparé                 </td></tr>\n",
       "\t<tr><th scope=row>birthyear</th><td>1915           </td><td>1915           </td><td>NA               </td><td>Non comparé                 </td></tr>\n",
       "</tbody>\n",
       "</table>\n"
      ],
      "text/latex": [
       "A data.frame: 11 × 4\n",
       "\\begin{tabular}{r|llll}\n",
       "  & rec-1070-org & rec-1070-dup-0 & Similarité & Modes\\_de\\_comparaison\\\\\n",
       "  & <chr> & <chr> & <chr> & <chr>\\\\\n",
       "\\hline\n",
       "\tgiven\\_name &  michaela       &  michafla       & 0.925925925925926 & Jaro-Winkler                \\\\\n",
       "\tsurname &  neumann        &  jakimow        & 0.472222222222222 & Jaro-Winkler                \\\\\n",
       "\tdate\\_of\\_birth & 19151111        & 19151111        &        1          & Exact                       \\\\\n",
       "\taddress\\_1 &  stanley street &  stanleykstreet & 0.933333333333333 & Longest common substring    \\\\\n",
       "\tsuburb &  winston hills  &  winstonbhills  & FALSE             & Exact                       \\\\\n",
       "\tstate &  nsw            &                 & FALSE             & Exact                       \\\\\n",
       "\tpostcode & 4223            & 4223            & NA                & Non comparé (clé de blocage)\\\\\n",
       "\tstreet\\_number &  8              &  8              & NA                & Non comparé                 \\\\\n",
       "\taddress\\_2 &  miami          &  miami          & NA                & Non comparé                 \\\\\n",
       "\tsoc\\_sec\\_id & 5304218         & 5304218         & NA                & Non comparé                 \\\\\n",
       "\tbirthyear & 1915            & 1915            & NA                & Non comparé                 \\\\\n",
       "\\end{tabular}\n"
      ],
      "text/markdown": [
       "\n",
       "A data.frame: 11 × 4\n",
       "\n",
       "| <!--/--> | rec-1070-org &lt;chr&gt; | rec-1070-dup-0 &lt;chr&gt; | Similarité &lt;chr&gt; | Modes_de_comparaison &lt;chr&gt; |\n",
       "|---|---|---|---|---|\n",
       "| given_name |  michaela       |  michafla       | 0.925925925925926 | Jaro-Winkler                 |\n",
       "| surname |  neumann        |  jakimow        | 0.472222222222222 | Jaro-Winkler                 |\n",
       "| date_of_birth | 19151111        | 19151111        |        1          | Exact                        |\n",
       "| address_1 |  stanley street |  stanleykstreet | 0.933333333333333 | Longest common substring     |\n",
       "| suburb |  winston hills  |  winstonbhills  | FALSE             | Exact                        |\n",
       "| state |  nsw            | <!----> | FALSE             | Exact                        |\n",
       "| postcode | 4223            | 4223            | NA                | Non comparé (clé de blocage) |\n",
       "| street_number |  8              |  8              | NA                | Non comparé                  |\n",
       "| address_2 |  miami          |  miami          | NA                | Non comparé                  |\n",
       "| soc_sec_id | 5304218         | 5304218         | NA                | Non comparé                  |\n",
       "| birthyear | 1915            | 1915            | NA                | Non comparé                  |\n",
       "\n"
      ],
      "text/plain": [
       "              rec-1070-org    rec-1070-dup-0  Similarité       \n",
       "given_name     michaela        michafla       0.925925925925926\n",
       "surname        neumann         jakimow        0.472222222222222\n",
       "date_of_birth 19151111        19151111               1         \n",
       "address_1      stanley street  stanleykstreet 0.933333333333333\n",
       "suburb         winston hills   winstonbhills  FALSE            \n",
       "state          nsw                            FALSE            \n",
       "postcode      4223            4223            NA               \n",
       "street_number  8               8              NA               \n",
       "address_2      miami           miami          NA               \n",
       "soc_sec_id    5304218         5304218         NA               \n",
       "birthyear     1915            1915            NA               \n",
       "              Modes_de_comparaison        \n",
       "given_name    Jaro-Winkler                \n",
       "surname       Jaro-Winkler                \n",
       "date_of_birth Exact                       \n",
       "address_1     Longest common substring    \n",
       "suburb        Exact                       \n",
       "state         Exact                       \n",
       "postcode      Non comparé (clé de blocage)\n",
       "street_number Non comparé                 \n",
       "address_2     Non comparé                 \n",
       "soc_sec_id    Non comparé                 \n",
       "birthyear     Non comparé                 "
      ]
     },
     "metadata": {},
     "output_type": "display_data"
    }
   ],
   "source": [
    "print_field_comparisons(1070)"
   ]
  },
  {
   "cell_type": "code",
   "execution_count": 21,
   "id": "d1499753-4bde-4d4b-9812-c04bd91f2721",
   "metadata": {
    "tags": []
   },
   "outputs": [
    {
     "data": {
      "text/html": [
       "<table class=\"dataframe\">\n",
       "<caption>A data.frame: 11 × 4</caption>\n",
       "<thead>\n",
       "\t<tr><th></th><th scope=col>rec-1124-org</th><th scope=col>rec-1124-dup-0</th><th scope=col>Similarité</th><th scope=col>Modes_de_comparaison</th></tr>\n",
       "\t<tr><th></th><th scope=col>&lt;chr&gt;</th><th scope=col>&lt;chr&gt;</th><th scope=col>&lt;chr&gt;</th><th scope=col>&lt;chr&gt;</th></tr>\n",
       "</thead>\n",
       "<tbody>\n",
       "\t<tr><th scope=row>given_name</th><td> lily           </td><td> lily           </td><td>1       </td><td>Jaro-Winkler                </td></tr>\n",
       "\t<tr><th scope=row>surname</th><td> clarke         </td><td> clarke         </td><td>1       </td><td>Jaro-Winkler                </td></tr>\n",
       "\t<tr><th scope=row>date_of_birth</th><td>19690612        </td><td>19690612        </td><td>       1</td><td>Exact                       </td></tr>\n",
       "\t<tr><th scope=row>address_1</th><td> emerton street </td><td> emerton street </td><td>1       </td><td>Longest common substring    </td></tr>\n",
       "\t<tr><th scope=row>suburb</th><td> woodville south</td><td> woodville south</td><td>TRUE    </td><td>Exact                       </td></tr>\n",
       "\t<tr><th scope=row>state</th><td> nsw            </td><td> nsw            </td><td>TRUE    </td><td>Exact                       </td></tr>\n",
       "\t<tr><th scope=row>postcode</th><td>4223            </td><td>4223            </td><td>NA      </td><td>Non comparé (clé de blocage)</td></tr>\n",
       "\t<tr><th scope=row>street_number</th><td>25              </td><td>25              </td><td>NA      </td><td>Non comparé                 </td></tr>\n",
       "\t<tr><th scope=row>address_2</th><td> eight mile     </td><td> eight yile     </td><td>NA      </td><td>Non comparé                 </td></tr>\n",
       "\t<tr><th scope=row>soc_sec_id</th><td>4559335         </td><td>4559335         </td><td>NA      </td><td>Non comparé                 </td></tr>\n",
       "\t<tr><th scope=row>birthyear</th><td>1969            </td><td>1969            </td><td>NA      </td><td>Non comparé                 </td></tr>\n",
       "</tbody>\n",
       "</table>\n"
      ],
      "text/latex": [
       "A data.frame: 11 × 4\n",
       "\\begin{tabular}{r|llll}\n",
       "  & rec-1124-org & rec-1124-dup-0 & Similarité & Modes\\_de\\_comparaison\\\\\n",
       "  & <chr> & <chr> & <chr> & <chr>\\\\\n",
       "\\hline\n",
       "\tgiven\\_name &  lily            &  lily            & 1        & Jaro-Winkler                \\\\\n",
       "\tsurname &  clarke          &  clarke          & 1        & Jaro-Winkler                \\\\\n",
       "\tdate\\_of\\_birth & 19690612         & 19690612         &        1 & Exact                       \\\\\n",
       "\taddress\\_1 &  emerton street  &  emerton street  & 1        & Longest common substring    \\\\\n",
       "\tsuburb &  woodville south &  woodville south & TRUE     & Exact                       \\\\\n",
       "\tstate &  nsw             &  nsw             & TRUE     & Exact                       \\\\\n",
       "\tpostcode & 4223             & 4223             & NA       & Non comparé (clé de blocage)\\\\\n",
       "\tstreet\\_number & 25               & 25               & NA       & Non comparé                 \\\\\n",
       "\taddress\\_2 &  eight mile      &  eight yile      & NA       & Non comparé                 \\\\\n",
       "\tsoc\\_sec\\_id & 4559335          & 4559335          & NA       & Non comparé                 \\\\\n",
       "\tbirthyear & 1969             & 1969             & NA       & Non comparé                 \\\\\n",
       "\\end{tabular}\n"
      ],
      "text/markdown": [
       "\n",
       "A data.frame: 11 × 4\n",
       "\n",
       "| <!--/--> | rec-1124-org &lt;chr&gt; | rec-1124-dup-0 &lt;chr&gt; | Similarité &lt;chr&gt; | Modes_de_comparaison &lt;chr&gt; |\n",
       "|---|---|---|---|---|\n",
       "| given_name |  lily            |  lily            | 1        | Jaro-Winkler                 |\n",
       "| surname |  clarke          |  clarke          | 1        | Jaro-Winkler                 |\n",
       "| date_of_birth | 19690612         | 19690612         |        1 | Exact                        |\n",
       "| address_1 |  emerton street  |  emerton street  | 1        | Longest common substring     |\n",
       "| suburb |  woodville south |  woodville south | TRUE     | Exact                        |\n",
       "| state |  nsw             |  nsw             | TRUE     | Exact                        |\n",
       "| postcode | 4223             | 4223             | NA       | Non comparé (clé de blocage) |\n",
       "| street_number | 25               | 25               | NA       | Non comparé                  |\n",
       "| address_2 |  eight mile      |  eight yile      | NA       | Non comparé                  |\n",
       "| soc_sec_id | 4559335          | 4559335          | NA       | Non comparé                  |\n",
       "| birthyear | 1969             | 1969             | NA       | Non comparé                  |\n",
       "\n"
      ],
      "text/plain": [
       "              rec-1124-org     rec-1124-dup-0   Similarité\n",
       "given_name     lily             lily            1         \n",
       "surname        clarke           clarke          1         \n",
       "date_of_birth 19690612         19690612                1  \n",
       "address_1      emerton street   emerton street  1         \n",
       "suburb         woodville south  woodville south TRUE      \n",
       "state          nsw              nsw             TRUE      \n",
       "postcode      4223             4223             NA        \n",
       "street_number 25               25               NA        \n",
       "address_2      eight mile       eight yile      NA        \n",
       "soc_sec_id    4559335          4559335          NA        \n",
       "birthyear     1969             1969             NA        \n",
       "              Modes_de_comparaison        \n",
       "given_name    Jaro-Winkler                \n",
       "surname       Jaro-Winkler                \n",
       "date_of_birth Exact                       \n",
       "address_1     Longest common substring    \n",
       "suburb        Exact                       \n",
       "state         Exact                       \n",
       "postcode      Non comparé (clé de blocage)\n",
       "street_number Non comparé                 \n",
       "address_2     Non comparé                 \n",
       "soc_sec_id    Non comparé                 \n",
       "birthyear     Non comparé                 "
      ]
     },
     "metadata": {},
     "output_type": "display_data"
    }
   ],
   "source": [
    "print_field_comparisons(1124)"
   ]
  },
  {
   "cell_type": "code",
   "execution_count": 22,
   "id": "35a5597b-0dc9-4a86-9647-2162d00cda23",
   "metadata": {
    "tags": []
   },
   "outputs": [
    {
     "data": {
      "text/html": [
       "<table class=\"dataframe\">\n",
       "<caption>A data.frame: 11 × 4</caption>\n",
       "<thead>\n",
       "\t<tr><th></th><th scope=col>rec-1016-org</th><th scope=col>rec-1016-dup-0</th><th scope=col>Similarité</th><th scope=col>Modes_de_comparaison</th></tr>\n",
       "\t<tr><th></th><th scope=col>&lt;chr&gt;</th><th scope=col>&lt;chr&gt;</th><th scope=col>&lt;chr&gt;</th><th scope=col>&lt;chr&gt;</th></tr>\n",
       "</thead>\n",
       "<tbody>\n",
       "\t<tr><th scope=row>given_name</th><td> courtney         </td><td> courtney         </td><td>1       </td><td>Jaro-Winkler                </td></tr>\n",
       "\t<tr><th scope=row>surname</th><td> painter          </td><td> painter          </td><td>1       </td><td>Jaro-Winkler                </td></tr>\n",
       "\t<tr><th scope=row>date_of_birth</th><td>19161214          </td><td>19161214          </td><td>       1</td><td>Exact                       </td></tr>\n",
       "\t<tr><th scope=row>address_1</th><td> pinkerton circuit</td><td> pinkerton circuit</td><td>1       </td><td>Longest common substring    </td></tr>\n",
       "\t<tr><th scope=row>suburb</th><td> richlands        </td><td> richlands        </td><td>TRUE    </td><td>Exact                       </td></tr>\n",
       "\t<tr><th scope=row>state</th><td> vic              </td><td> vci              </td><td>FALSE   </td><td>Exact                       </td></tr>\n",
       "\t<tr><th scope=row>postcode</th><td>4560              </td><td>4560              </td><td>NA      </td><td>Non comparé (clé de blocage)</td></tr>\n",
       "\t<tr><th scope=row>street_number</th><td>12                </td><td>12                </td><td>NA      </td><td>Non comparé                 </td></tr>\n",
       "\t<tr><th scope=row>address_2</th><td> bega flats       </td><td>                  </td><td>NA      </td><td>Non comparé                 </td></tr>\n",
       "\t<tr><th scope=row>soc_sec_id</th><td>4066625           </td><td>4066625           </td><td>NA      </td><td>Non comparé                 </td></tr>\n",
       "\t<tr><th scope=row>birthyear</th><td>1916              </td><td>1916              </td><td>NA      </td><td>Non comparé                 </td></tr>\n",
       "</tbody>\n",
       "</table>\n"
      ],
      "text/latex": [
       "A data.frame: 11 × 4\n",
       "\\begin{tabular}{r|llll}\n",
       "  & rec-1016-org & rec-1016-dup-0 & Similarité & Modes\\_de\\_comparaison\\\\\n",
       "  & <chr> & <chr> & <chr> & <chr>\\\\\n",
       "\\hline\n",
       "\tgiven\\_name &  courtney          &  courtney          & 1        & Jaro-Winkler                \\\\\n",
       "\tsurname &  painter           &  painter           & 1        & Jaro-Winkler                \\\\\n",
       "\tdate\\_of\\_birth & 19161214           & 19161214           &        1 & Exact                       \\\\\n",
       "\taddress\\_1 &  pinkerton circuit &  pinkerton circuit & 1        & Longest common substring    \\\\\n",
       "\tsuburb &  richlands         &  richlands         & TRUE     & Exact                       \\\\\n",
       "\tstate &  vic               &  vci               & FALSE    & Exact                       \\\\\n",
       "\tpostcode & 4560               & 4560               & NA       & Non comparé (clé de blocage)\\\\\n",
       "\tstreet\\_number & 12                 & 12                 & NA       & Non comparé                 \\\\\n",
       "\taddress\\_2 &  bega flats        &                    & NA       & Non comparé                 \\\\\n",
       "\tsoc\\_sec\\_id & 4066625            & 4066625            & NA       & Non comparé                 \\\\\n",
       "\tbirthyear & 1916               & 1916               & NA       & Non comparé                 \\\\\n",
       "\\end{tabular}\n"
      ],
      "text/markdown": [
       "\n",
       "A data.frame: 11 × 4\n",
       "\n",
       "| <!--/--> | rec-1016-org &lt;chr&gt; | rec-1016-dup-0 &lt;chr&gt; | Similarité &lt;chr&gt; | Modes_de_comparaison &lt;chr&gt; |\n",
       "|---|---|---|---|---|\n",
       "| given_name |  courtney          |  courtney          | 1        | Jaro-Winkler                 |\n",
       "| surname |  painter           |  painter           | 1        | Jaro-Winkler                 |\n",
       "| date_of_birth | 19161214           | 19161214           |        1 | Exact                        |\n",
       "| address_1 |  pinkerton circuit |  pinkerton circuit | 1        | Longest common substring     |\n",
       "| suburb |  richlands         |  richlands         | TRUE     | Exact                        |\n",
       "| state |  vic               |  vci               | FALSE    | Exact                        |\n",
       "| postcode | 4560               | 4560               | NA       | Non comparé (clé de blocage) |\n",
       "| street_number | 12                 | 12                 | NA       | Non comparé                  |\n",
       "| address_2 |  bega flats        | <!----> | NA       | Non comparé                  |\n",
       "| soc_sec_id | 4066625            | 4066625            | NA       | Non comparé                  |\n",
       "| birthyear | 1916               | 1916               | NA       | Non comparé                  |\n",
       "\n"
      ],
      "text/plain": [
       "              rec-1016-org       rec-1016-dup-0     Similarité\n",
       "given_name     courtney           courtney          1         \n",
       "surname        painter            painter           1         \n",
       "date_of_birth 19161214           19161214                  1  \n",
       "address_1      pinkerton circuit  pinkerton circuit 1         \n",
       "suburb         richlands          richlands         TRUE      \n",
       "state          vic                vci               FALSE     \n",
       "postcode      4560               4560               NA        \n",
       "street_number 12                 12                 NA        \n",
       "address_2      bega flats                           NA        \n",
       "soc_sec_id    4066625            4066625            NA        \n",
       "birthyear     1916               1916               NA        \n",
       "              Modes_de_comparaison        \n",
       "given_name    Jaro-Winkler                \n",
       "surname       Jaro-Winkler                \n",
       "date_of_birth Exact                       \n",
       "address_1     Longest common substring    \n",
       "suburb        Exact                       \n",
       "state         Exact                       \n",
       "postcode      Non comparé (clé de blocage)\n",
       "street_number Non comparé                 \n",
       "address_2     Non comparé                 \n",
       "soc_sec_id    Non comparé                 \n",
       "birthyear     Non comparé                 "
      ]
     },
     "metadata": {},
     "output_type": "display_data"
    }
   ],
   "source": [
    "print_field_comparisons(1016)"
   ]
  },
  {
   "cell_type": "markdown",
   "id": "22b739de-f320-4da9-8ee1-5b7778bb32db",
   "metadata": {},
   "source": [
    "### Comparaison des paires : classification"
   ]
  },
  {
   "cell_type": "markdown",
   "id": "35ab124d-a656-44f6-ad30-19f44c12c536",
   "metadata": {},
   "source": [
    "L'approche principale proposée par le package reclin2 pour la classification des paires est l'approche probabiliste, conforme au cadre de Fellegi et Sunter. La fonction _problink_em_ permet de procéder à l'estimation des paramètres du modèle, via l'algorithme itératif Espérance-Maximisation (EM)."
   ]
  },
  {
   "cell_type": "code",
   "execution_count": 23,
   "id": "3cae1f81-2221-4bca-892c-9cc5e8b2e6c1",
   "metadata": {
    "tags": []
   },
   "outputs": [
    {
     "name": "stdout",
     "output_type": "stream",
     "text": [
      "M- and u-probabilities estimated by the EM-algorithm:\n",
      "      Variable M-probability U-probability\n",
      "    given_name     0.7393867   0.004365923\n",
      "       surname     0.8153348   0.005935374\n",
      " date_of_birth     0.8921841   0.000100000\n",
      "     address_1     0.9050878   0.001885350\n",
      "        suburb     0.7486620   0.001249271\n",
      "         state     0.9501785   0.222184811\n",
      "\n",
      "Matching probability: 0.1471533.\n"
     ]
    }
   ],
   "source": [
    "### Estimation des paramètres du modèle\n",
    "m <- problink_em(~given_name + surname + date_of_birth + address_1 + suburb + state, data = pairs)\n",
    "print(m)"
   ]
  },
  {
   "cell_type": "markdown",
   "id": "ed71d4d8-a8b3-4b53-afac-f7810c6c6988",
   "metadata": {},
   "source": [
    "La fonction _predict_ permet ensuite d'utiliser le modèle qui vient d'être calibré afin d'attribuer une probabilité à chaque paire."
   ]
  },
  {
   "cell_type": "code",
   "execution_count": 24,
   "id": "f9319537-b35d-4f87-847e-7e9c5033eaac",
   "metadata": {
    "tags": []
   },
   "outputs": [
    {
     "name": "stdout",
     "output_type": "stream",
     "text": [
      "  First data set:  5 000 records\n",
      "  Second data set: 5 000 records\n",
      "  Total number of pairs: 28 609 pairs\n",
      "  Blocking on: 'postcode'\n",
      "\n",
      "         .x   .y given_name   surname date_of_birth suburb state address_1\n",
      "    1: 2158 2239  0.5396825 0.5777778         FALSE  FALSE FALSE 0.2962963\n",
      "    2: 2158 3020  1.0000000 0.8888889          TRUE   TRUE  TRUE 1.0000000\n",
      "    3: 3389 2239  0.7527778 1.0000000          TRUE   TRUE  TRUE 1.0000000\n",
      "    4: 3389 3020  0.7130952 0.5777778         FALSE  FALSE FALSE 0.2962963\n",
      "    5:  700 1091  0.6666667 0.4365079         FALSE  FALSE FALSE 0.5294118\n",
      "   ---                                                                    \n",
      "28605: 3480 4384  0.4285714 0.4365079          TRUE   TRUE  TRUE 1.0000000\n",
      "28606: 3763  500  1.0000000 0.4559885          TRUE   TRUE  TRUE 0.3846154\n",
      "28607: 3763 2797  0.7037037 0.4642857         FALSE  FALSE  TRUE 0.6153846\n",
      "28608: 3763 4384  0.5886243 0.5238095         FALSE  FALSE FALSE 0.4000000\n",
      "28609: 4568 1692  1.0000000 1.0000000          TRUE  FALSE  TRUE 1.0000000\n",
      "              mpost\n",
      "    1: 0.0002088646\n",
      "    2: 1.0000000000\n",
      "    3: 1.0000000000\n",
      "    4: 0.0003864329\n",
      "    5: 0.0004721964\n",
      "   ---             \n",
      "28605: 0.9999999992\n",
      "28606: 0.9999999974\n",
      "28607: 0.0522967005\n",
      "28608: 0.0002980071\n",
      "28609: 0.9999999999\n"
     ]
    }
   ],
   "source": [
    "### Calcul d'une probabilité pour chaque paire\n",
    "pairs <- predict(m, pairs = pairs, type = \"mpost\", add = TRUE)\n",
    "print(pairs)"
   ]
  },
  {
   "cell_type": "markdown",
   "id": "1983da22-2387-4354-a23d-dfc62ebbf55e",
   "metadata": {},
   "source": [
    "À partir de ces probabilités, il est alors possible de définir un seuil au-delà duquel on décide de lier la paire. Dans l'exemple ci-dessous, on lie toutes les paires dont la probabilité estimée est supérieure à 0.5, et on stocke cette décision sous la forme d'une variable booléenne appelée `above_threshold`."
   ]
  },
  {
   "cell_type": "code",
   "execution_count": 25,
   "id": "1662a10a-90a7-4030-8f11-3fbdf143bc1c",
   "metadata": {
    "tags": []
   },
   "outputs": [
    {
     "name": "stdout",
     "output_type": "stream",
     "text": [
      "  First data set:  5 000 records\n",
      "  Second data set: 5 000 records\n",
      "  Total number of pairs: 28 609 pairs\n",
      "  Blocking on: 'postcode'\n",
      "\n",
      "         .x   .y given_name   surname date_of_birth suburb state address_1\n",
      "    1: 2158 2239  0.5396825 0.5777778         FALSE  FALSE FALSE 0.2962963\n",
      "    2: 2158 3020  1.0000000 0.8888889          TRUE   TRUE  TRUE 1.0000000\n",
      "    3: 3389 2239  0.7527778 1.0000000          TRUE   TRUE  TRUE 1.0000000\n",
      "    4: 3389 3020  0.7130952 0.5777778         FALSE  FALSE FALSE 0.2962963\n",
      "    5:  700 1091  0.6666667 0.4365079         FALSE  FALSE FALSE 0.5294118\n",
      "   ---                                                                    \n",
      "28605: 3480 4384  0.4285714 0.4365079          TRUE   TRUE  TRUE 1.0000000\n",
      "28606: 3763  500  1.0000000 0.4559885          TRUE   TRUE  TRUE 0.3846154\n",
      "28607: 3763 2797  0.7037037 0.4642857         FALSE  FALSE  TRUE 0.6153846\n",
      "28608: 3763 4384  0.5886243 0.5238095         FALSE  FALSE FALSE 0.4000000\n",
      "28609: 4568 1692  1.0000000 1.0000000          TRUE  FALSE  TRUE 1.0000000\n",
      "              mpost above_threshold\n",
      "    1: 0.0002088646           FALSE\n",
      "    2: 1.0000000000            TRUE\n",
      "    3: 1.0000000000            TRUE\n",
      "    4: 0.0003864329           FALSE\n",
      "    5: 0.0004721964           FALSE\n",
      "   ---                             \n",
      "28605: 0.9999999992            TRUE\n",
      "28606: 0.9999999974            TRUE\n",
      "28607: 0.0522967005           FALSE\n",
      "28608: 0.0002980071           FALSE\n",
      "28609: 0.9999999999            TRUE\n"
     ]
    }
   ],
   "source": [
    "### Attribution d'un statut à chaque paire (lié ou non-lié)\n",
    "select_threshold(pairs, variable = \"above_threshold\", score = \"mpost\", threshold = 0.5, inplace = TRUE)\n",
    "print(pairs)"
   ]
  },
  {
   "cell_type": "markdown",
   "id": "f7f2a379-4948-4892-9150-550905374985",
   "metadata": {},
   "source": [
    "### Résolution des conflits"
   ]
  },
  {
   "cell_type": "markdown",
   "id": "1e94dada-4842-44ea-9f70-f3485f2d9088",
   "metadata": {},
   "source": [
    "L'approche d'appariement probabiliste, comme les autres méthodes usuelles de classification, traite les paires de façon indépendante. Cependant, lorsqu'on apparie des données individuelles et que les fichiers à apparier ne contiennent pas de doublons, on a besoin d'imposer une contrainte supplémentaire : un individu du premier fichier doit être apparié avec au plus un individu du second fichier. Il s'agit alors de filtrer les paires identifiées dans l'étape précédente afin de respecter cette contrainte.\n",
    "\n",
    "Le package reclin2 propose deux approches pour résoudre les éventuels conflits : \n",
    "- la fonction `select_greedy` repose sur une approche dite \"gloutonne\" : les paires sont évaluées de façon séquentielle, en commençant par celles ayant la probabilité (estimée par le modèle) la plus élevée ;\n",
    "- la fonction `select_n_to_m` cherche une solution optimale en maximisant la somme des probabilités associées à l'ensemble des paires retenues.\n",
    "\n",
    "L'approche gloutonne est nettement plus rapide, et les solutions obtenues avec les deux méthodes sont souvent très proches."
   ]
  },
  {
   "cell_type": "code",
   "execution_count": 26,
   "id": "01acf4c6-bd37-41b7-84e2-eaf0d4e591f9",
   "metadata": {
    "tags": []
   },
   "outputs": [
    {
     "name": "stdout",
     "output_type": "stream",
     "text": [
      "  First data set:  5 000 records\n",
      "  Second data set: 5 000 records\n",
      "  Total number of pairs: 28 609 pairs\n",
      "  Blocking on: 'postcode'\n",
      "\n",
      "         .x   .y given_name   surname date_of_birth suburb state address_1\n",
      "    1: 2158 2239  0.5396825 0.5777778         FALSE  FALSE FALSE 0.2962963\n",
      "    2: 2158 3020  1.0000000 0.8888889          TRUE   TRUE  TRUE 1.0000000\n",
      "    3: 3389 2239  0.7527778 1.0000000          TRUE   TRUE  TRUE 1.0000000\n",
      "    4: 3389 3020  0.7130952 0.5777778         FALSE  FALSE FALSE 0.2962963\n",
      "    5:  700 1091  0.6666667 0.4365079         FALSE  FALSE FALSE 0.5294118\n",
      "   ---                                                                    \n",
      "28605: 3480 4384  0.4285714 0.4365079          TRUE   TRUE  TRUE 1.0000000\n",
      "28606: 3763  500  1.0000000 0.4559885          TRUE   TRUE  TRUE 0.3846154\n",
      "28607: 3763 2797  0.7037037 0.4642857         FALSE  FALSE  TRUE 0.6153846\n",
      "28608: 3763 4384  0.5886243 0.5238095         FALSE  FALSE FALSE 0.4000000\n",
      "28609: 4568 1692  1.0000000 1.0000000          TRUE  FALSE  TRUE 1.0000000\n",
      "              mpost above_threshold selected_greedy\n",
      "    1: 0.0002088646           FALSE           FALSE\n",
      "    2: 1.0000000000            TRUE            TRUE\n",
      "    3: 1.0000000000            TRUE            TRUE\n",
      "    4: 0.0003864329           FALSE           FALSE\n",
      "    5: 0.0004721964           FALSE           FALSE\n",
      "   ---                                             \n",
      "28605: 0.9999999992            TRUE            TRUE\n",
      "28606: 0.9999999974            TRUE            TRUE\n",
      "28607: 0.0522967005           FALSE           FALSE\n",
      "28608: 0.0002980071           FALSE           FALSE\n",
      "28609: 0.9999999999            TRUE            TRUE\n"
     ]
    }
   ],
   "source": [
    "### Résolution des conflits par l'approche gloutonne\n",
    "select_greedy(pairs, variable = \"selected_greedy\", score = \"mpost\", threshold = 0.5, inplace = TRUE)\n",
    "print(pairs)"
   ]
  },
  {
   "cell_type": "code",
   "execution_count": 27,
   "id": "29106ea3-62cc-4344-bd56-3e91425bd217",
   "metadata": {
    "tags": []
   },
   "outputs": [
    {
     "name": "stdout",
     "output_type": "stream",
     "text": [
      "  First data set:  5 000 records\n",
      "  Second data set: 5 000 records\n",
      "  Total number of pairs: 28 609 pairs\n",
      "  Blocking on: 'postcode'\n",
      "\n",
      "         .x   .y given_name   surname date_of_birth suburb state address_1\n",
      "    1: 2158 2239  0.5396825 0.5777778         FALSE  FALSE FALSE 0.2962963\n",
      "    2: 2158 3020  1.0000000 0.8888889          TRUE   TRUE  TRUE 1.0000000\n",
      "    3: 3389 2239  0.7527778 1.0000000          TRUE   TRUE  TRUE 1.0000000\n",
      "    4: 3389 3020  0.7130952 0.5777778         FALSE  FALSE FALSE 0.2962963\n",
      "    5:  700 1091  0.6666667 0.4365079         FALSE  FALSE FALSE 0.5294118\n",
      "   ---                                                                    \n",
      "28605: 3480 4384  0.4285714 0.4365079          TRUE   TRUE  TRUE 1.0000000\n",
      "28606: 3763  500  1.0000000 0.4559885          TRUE   TRUE  TRUE 0.3846154\n",
      "28607: 3763 2797  0.7037037 0.4642857         FALSE  FALSE  TRUE 0.6153846\n",
      "28608: 3763 4384  0.5886243 0.5238095         FALSE  FALSE FALSE 0.4000000\n",
      "28609: 4568 1692  1.0000000 1.0000000          TRUE  FALSE  TRUE 1.0000000\n",
      "              mpost above_threshold selected_greedy selected_optimal\n",
      "    1: 0.0002088646           FALSE           FALSE            FALSE\n",
      "    2: 1.0000000000            TRUE            TRUE             TRUE\n",
      "    3: 1.0000000000            TRUE            TRUE             TRUE\n",
      "    4: 0.0003864329           FALSE           FALSE            FALSE\n",
      "    5: 0.0004721964           FALSE           FALSE            FALSE\n",
      "   ---                                                              \n",
      "28605: 0.9999999992            TRUE            TRUE             TRUE\n",
      "28606: 0.9999999974            TRUE            TRUE             TRUE\n",
      "28607: 0.0522967005           FALSE           FALSE            FALSE\n",
      "28608: 0.0002980071           FALSE           FALSE            FALSE\n",
      "28609: 0.9999999999            TRUE            TRUE             TRUE\n"
     ]
    }
   ],
   "source": [
    "### Résolution des conflits par l'approche optimale\n",
    "select_n_to_m(pairs, variable = \"selected_optimal\", score = \"mpost\", threshold = 0.5, inplace = TRUE)\n",
    "print(pairs)"
   ]
  },
  {
   "cell_type": "markdown",
   "id": "f45074e6-7be3-4c3d-8c21-eb752b672734",
   "metadata": {},
   "source": [
    "### Évaluation de la qualité"
   ]
  },
  {
   "cell_type": "markdown",
   "id": "34623a9a-438a-4361-be6a-570ceeb672af",
   "metadata": {},
   "source": [
    "Évaluer la qualité d'un appariement est une étape primordiale mais souvent difficile à réaliser car on ne connaît pas le vrai statut de chaque paire. Il faut donc utiliser un échantillon représentatif annoté.\n",
    "\n",
    "Ici, la tâche est plus simple puisque nous travaillons avec des données générées. On peut donc calculer les résultats sur l'ensemble des individus. Le package n'a pas de fonctionnalités particulières liées à l'évaluation de la qualité, mais on peut calculer les mesures classiques en procédant à quelques opérations sur le dataframe `pairs`. La fonction _compute_performance_metrics_FEBRL_ proposée ci-dessous permet de calculer les mesures de performance pour les données utilisées dans ce notebook."
   ]
  },
  {
   "cell_type": "code",
   "execution_count": 28,
   "id": "ff4d1f6b-2dd9-40dd-ae09-de892b810299",
   "metadata": {
    "tags": []
   },
   "outputs": [
    {
     "name": "stdout",
     "output_type": "stream",
     "text": [
      "  First data set:  5 000 records\n",
      "  Second data set: 5 000 records\n",
      "  Total number of pairs: 28 609 pairs\n",
      "  Blocking on: 'postcode'\n",
      "\n",
      "         .x   .y given_name   surname date_of_birth suburb state address_1\n",
      "    1: 2158 2239  0.5396825 0.5777778         FALSE  FALSE FALSE 0.2962963\n",
      "    2: 2158 3020  1.0000000 0.8888889          TRUE   TRUE  TRUE 1.0000000\n",
      "    3: 3389 2239  0.7527778 1.0000000          TRUE   TRUE  TRUE 1.0000000\n",
      "    4: 3389 3020  0.7130952 0.5777778         FALSE  FALSE FALSE 0.2962963\n",
      "    5:  700 1091  0.6666667 0.4365079         FALSE  FALSE FALSE 0.5294118\n",
      "   ---                                                                    \n",
      "28605: 3480 4384  0.4285714 0.4365079          TRUE   TRUE  TRUE 1.0000000\n",
      "28606: 3763  500  1.0000000 0.4559885          TRUE   TRUE  TRUE 0.3846154\n",
      "28607: 3763 2797  0.7037037 0.4642857         FALSE  FALSE  TRUE 0.6153846\n",
      "28608: 3763 4384  0.5886243 0.5238095         FALSE  FALSE FALSE 0.4000000\n",
      "28609: 4568 1692  1.0000000 1.0000000          TRUE  FALSE  TRUE 1.0000000\n",
      "              mpost above_threshold selected_greedy selected_optimal truth\n",
      "    1: 0.0002088646           FALSE           FALSE            FALSE FALSE\n",
      "    2: 1.0000000000            TRUE            TRUE             TRUE  TRUE\n",
      "    3: 1.0000000000            TRUE            TRUE             TRUE  TRUE\n",
      "    4: 0.0003864329           FALSE           FALSE            FALSE FALSE\n",
      "    5: 0.0004721964           FALSE           FALSE            FALSE FALSE\n",
      "   ---                                                                    \n",
      "28605: 0.9999999992            TRUE            TRUE             TRUE  TRUE\n",
      "28606: 0.9999999974            TRUE            TRUE             TRUE  TRUE\n",
      "28607: 0.0522967005           FALSE           FALSE            FALSE FALSE\n",
      "28608: 0.0002980071           FALSE           FALSE            FALSE FALSE\n",
      "28609: 0.9999999999            TRUE            TRUE             TRUE  TRUE\n"
     ]
    }
   ],
   "source": [
    "### Ajout du vrai statut de chaque paire\n",
    "pairs <- compare_vars(pairs, \"truth\", on_x = \"rec_id_stripped\", on_y = \"rec_id_stripped\")\n",
    "print(pairs)"
   ]
  },
  {
   "cell_type": "code",
   "execution_count": 29,
   "id": "501d1d58-3587-47af-8c52-a29c3c99de8d",
   "metadata": {
    "tags": []
   },
   "outputs": [],
   "source": [
    "### Définition d'une fonction pour calculer les mesures de qualité de l'appariement\n",
    "compute_performance_metrics_FEBRL <- function(pairs, dataset_size, result_column = \"selected_optimal\") {\n",
    "    TP <- sum(subset(pairs, select = result_column) & pairs$truth)\n",
    "    FP <- sum(subset(pairs, select = result_column) & !pairs$truth)\n",
    "    FN <- dataset_size - TP\n",
    "    TN <- dataset_size * dataset_size - TP - FN - FP\n",
    "    \n",
    "    precision <- TP / (TP + FP)\n",
    "    recall <- TP / (TP + FN)\n",
    "    Fscore <- 2 * precision * recall / (precision + recall)\n",
    "    return(list(TP = TP, TN = TN, FP = FP, FN = FN, precision = precision, recall = recall, Fscore = Fscore))\n",
    "    }"
   ]
  },
  {
   "cell_type": "code",
   "execution_count": 30,
   "id": "071e0e99-7426-4c60-ab09-feeac0410974",
   "metadata": {
    "tags": []
   },
   "outputs": [
    {
     "data": {
      "text/html": [
       "<dl>\n",
       "\t<dt>$TP</dt>\n",
       "\t\t<dd>4213</dd>\n",
       "\t<dt>$TN</dt>\n",
       "\t\t<dd>24994940</dd>\n",
       "\t<dt>$FP</dt>\n",
       "\t\t<dd>60</dd>\n",
       "\t<dt>$FN</dt>\n",
       "\t\t<dd>787</dd>\n",
       "\t<dt>$precision</dt>\n",
       "\t\t<dd>0.985958343084484</dd>\n",
       "\t<dt>$recall</dt>\n",
       "\t\t<dd>0.8426</dd>\n",
       "\t<dt>$Fscore</dt>\n",
       "\t\t<dd>0.908659549228944</dd>\n",
       "</dl>\n"
      ],
      "text/latex": [
       "\\begin{description}\n",
       "\\item[\\$TP] 4213\n",
       "\\item[\\$TN] 24994940\n",
       "\\item[\\$FP] 60\n",
       "\\item[\\$FN] 787\n",
       "\\item[\\$precision] 0.985958343084484\n",
       "\\item[\\$recall] 0.8426\n",
       "\\item[\\$Fscore] 0.908659549228944\n",
       "\\end{description}\n"
      ],
      "text/markdown": [
       "$TP\n",
       ":   4213\n",
       "$TN\n",
       ":   24994940\n",
       "$FP\n",
       ":   60\n",
       "$FN\n",
       ":   787\n",
       "$precision\n",
       ":   0.985958343084484\n",
       "$recall\n",
       ":   0.8426\n",
       "$Fscore\n",
       ":   0.908659549228944\n",
       "\n",
       "\n"
      ],
      "text/plain": [
       "$TP\n",
       "[1] 4213\n",
       "\n",
       "$TN\n",
       "[1] 24994940\n",
       "\n",
       "$FP\n",
       "[1] 60\n",
       "\n",
       "$FN\n",
       "[1] 787\n",
       "\n",
       "$precision\n",
       "[1] 0.9859583\n",
       "\n",
       "$recall\n",
       "[1] 0.8426\n",
       "\n",
       "$Fscore\n",
       "[1] 0.9086595\n"
      ]
     },
     "metadata": {},
     "output_type": "display_data"
    }
   ],
   "source": [
    "### Résultats sans résolution des conflits\n",
    "compute_performance_metrics_FEBRL(pairs, n, \"above_threshold\")"
   ]
  },
  {
   "cell_type": "code",
   "execution_count": 31,
   "id": "2dd25b56-784a-4c94-acaa-69ba88607c6d",
   "metadata": {
    "tags": []
   },
   "outputs": [
    {
     "data": {
      "text/html": [
       "<dl>\n",
       "\t<dt>$TP</dt>\n",
       "\t\t<dd>4213</dd>\n",
       "\t<dt>$TN</dt>\n",
       "\t\t<dd>24994999</dd>\n",
       "\t<dt>$FP</dt>\n",
       "\t\t<dd>1</dd>\n",
       "\t<dt>$FN</dt>\n",
       "\t\t<dd>787</dd>\n",
       "\t<dt>$precision</dt>\n",
       "\t\t<dd>0.999762695775985</dd>\n",
       "\t<dt>$recall</dt>\n",
       "\t\t<dd>0.8426</dd>\n",
       "\t<dt>$Fscore</dt>\n",
       "\t\t<dd>0.914477968309095</dd>\n",
       "</dl>\n"
      ],
      "text/latex": [
       "\\begin{description}\n",
       "\\item[\\$TP] 4213\n",
       "\\item[\\$TN] 24994999\n",
       "\\item[\\$FP] 1\n",
       "\\item[\\$FN] 787\n",
       "\\item[\\$precision] 0.999762695775985\n",
       "\\item[\\$recall] 0.8426\n",
       "\\item[\\$Fscore] 0.914477968309095\n",
       "\\end{description}\n"
      ],
      "text/markdown": [
       "$TP\n",
       ":   4213\n",
       "$TN\n",
       ":   24994999\n",
       "$FP\n",
       ":   1\n",
       "$FN\n",
       ":   787\n",
       "$precision\n",
       ":   0.999762695775985\n",
       "$recall\n",
       ":   0.8426\n",
       "$Fscore\n",
       ":   0.914477968309095\n",
       "\n",
       "\n"
      ],
      "text/plain": [
       "$TP\n",
       "[1] 4213\n",
       "\n",
       "$TN\n",
       "[1] 24994999\n",
       "\n",
       "$FP\n",
       "[1] 1\n",
       "\n",
       "$FN\n",
       "[1] 787\n",
       "\n",
       "$precision\n",
       "[1] 0.9997627\n",
       "\n",
       "$recall\n",
       "[1] 0.8426\n",
       "\n",
       "$Fscore\n",
       "[1] 0.914478\n"
      ]
     },
     "metadata": {},
     "output_type": "display_data"
    }
   ],
   "source": [
    "### Résultats avec résolution des conflits par l'approche gloutonne\n",
    "compute_performance_metrics_FEBRL(pairs, n, \"selected_greedy\")"
   ]
  },
  {
   "cell_type": "code",
   "execution_count": 32,
   "id": "dda33450-e4ff-4f60-acab-91c856ef68da",
   "metadata": {
    "tags": []
   },
   "outputs": [
    {
     "data": {
      "text/html": [
       "<dl>\n",
       "\t<dt>$TP</dt>\n",
       "\t\t<dd>4213</dd>\n",
       "\t<dt>$TN</dt>\n",
       "\t\t<dd>24994999</dd>\n",
       "\t<dt>$FP</dt>\n",
       "\t\t<dd>1</dd>\n",
       "\t<dt>$FN</dt>\n",
       "\t\t<dd>787</dd>\n",
       "\t<dt>$precision</dt>\n",
       "\t\t<dd>0.999762695775985</dd>\n",
       "\t<dt>$recall</dt>\n",
       "\t\t<dd>0.8426</dd>\n",
       "\t<dt>$Fscore</dt>\n",
       "\t\t<dd>0.914477968309095</dd>\n",
       "</dl>\n"
      ],
      "text/latex": [
       "\\begin{description}\n",
       "\\item[\\$TP] 4213\n",
       "\\item[\\$TN] 24994999\n",
       "\\item[\\$FP] 1\n",
       "\\item[\\$FN] 787\n",
       "\\item[\\$precision] 0.999762695775985\n",
       "\\item[\\$recall] 0.8426\n",
       "\\item[\\$Fscore] 0.914477968309095\n",
       "\\end{description}\n"
      ],
      "text/markdown": [
       "$TP\n",
       ":   4213\n",
       "$TN\n",
       ":   24994999\n",
       "$FP\n",
       ":   1\n",
       "$FN\n",
       ":   787\n",
       "$precision\n",
       ":   0.999762695775985\n",
       "$recall\n",
       ":   0.8426\n",
       "$Fscore\n",
       ":   0.914477968309095\n",
       "\n",
       "\n"
      ],
      "text/plain": [
       "$TP\n",
       "[1] 4213\n",
       "\n",
       "$TN\n",
       "[1] 24994999\n",
       "\n",
       "$FP\n",
       "[1] 1\n",
       "\n",
       "$FN\n",
       "[1] 787\n",
       "\n",
       "$precision\n",
       "[1] 0.9997627\n",
       "\n",
       "$recall\n",
       "[1] 0.8426\n",
       "\n",
       "$Fscore\n",
       "[1] 0.914478\n"
      ]
     },
     "metadata": {},
     "output_type": "display_data"
    }
   ],
   "source": [
    "### Résultats avec résolution des conflits par l'approche optimale\n",
    "compute_performance_metrics_FEBRL(pairs, n, \"selected_optimal\")"
   ]
  },
  {
   "cell_type": "markdown",
   "id": "fd36a94f-074e-493f-ad62-a60183e715bf",
   "metadata": {},
   "source": [
    "On peut effectuer deux constats sur les résultats. \n",
    "- D'abord, il n'y a aucun faux positif ou presque, probablement dû au fait que les erreurs générées sur le fichier B sont assez légères et ne perturbent donc pas trop l'algorithme d'appariement.\n",
    "- Du côté des faux négatifs, c'est moins satisfaisant : on rate beaucoup de paires d'individus identiques. La raison de ce défaut est sans doute le blocage un peu trop strict qui a été choisi, puisqu'on n'utilise que le code postal comme clé de blocage. Ainsi, tous les individus qui présentent une erreur sur le code postal dans le fichier B n'ont aucune chance d'être bien appariés, quelle que soit la qualité des données sur les autres champs identifiants. On pourrait donc améliorer l'appariement en utilisant plusieurs clés de bocage, afin de ne pas mettre trop de poids sur une seule variable.\n",
    "\n",
    "Quoi qu'il en soit, ces résultats sont propres aux deux fichiers appariés. Un autre jeu de fichiers, avec des données de qualité différente et des types d'erreurs différents, donnerait un tout autre résultat."
   ]
  },
  {
   "cell_type": "markdown",
   "id": "afcc58bc-fd0f-4a94-b31e-522ecaad6f76",
   "metadata": {},
   "source": [
    "## Exemple de code complet pour un appariement"
   ]
  },
  {
   "cell_type": "code",
   "execution_count": 33,
   "id": "5af14fe4-9910-4b6e-8aad-d830de6ee6de",
   "metadata": {},
   "outputs": [],
   "source": [
    "### Import des packages nécessaires\n",
    "library(reclin2)\n",
    "library(plyr)\n",
    "\n",
    "### Chargement des données\n",
    "dfA <- read.csv('data_febrl_5000_A.csv')\n",
    "dfB <- read.csv('data_febrl_5000_B.csv')\n",
    "\n",
    "### Blocage simple sur le code postal\n",
    "pairs <- pair_blocking(dfA, dfB, \"postcode\")\n",
    "\n",
    "### Comparaison des champs et correction pour les valeurs manquantes\n",
    "compare_pairs(pairs, on = c(\"given_name\", \"surname\", \"date_of_birth\", \"suburb\", \"state\", \"address_1\"), \n",
    "              comparators = list(given_name = jaro_winkler(), surname = jaro_winkler(0.92), address_1 = lcs(0.85)), \n",
    "              default_comparator = identical(), inplace = TRUE)\n",
    "pairs$date_of_birth[is.na(pairs$date_of_birth)] <- FALSE\n",
    "\n",
    "### Estimation des paramètres du modèle puis calcul d'une probabilité pour chaque paire\n",
    "m <- problink_em(~given_name + surname + date_of_birth + address_1 + suburb + state, data = pairs)\n",
    "pairs <- predict(m, pairs = pairs, type = \"mpost\", add = TRUE)\n",
    "\n",
    "### Résolution des conflits par l'approche gloutonne\n",
    "select_greedy(pairs, variable = \"selected_greedy\", score = \"mpost\", threshold = 0.5, inplace = TRUE)"
   ]
  },
  {
   "cell_type": "markdown",
   "id": "d4566a7d-d7cb-46c7-9dde-cd3270e863c9",
   "metadata": {},
   "source": [
    "## Exercice : Appariement de deux fichiers de 10 000 lignes"
   ]
  },
  {
   "cell_type": "markdown",
   "id": "6c3b2771-6cf4-4458-9148-926fe0c7d3e0",
   "metadata": {},
   "source": [
    "À vous de jouer ! Ci-dessous sont chargés deux fichiers de 10 000 lignes. La mission (ou du moins son intitulé) est simple : apparier ces deux fichiers et obtenir le meilleur F1-score possible (libre à vous de choisir une autre mesure à optimiser).\n",
    "\n",
    "Ces deux fichiers ont été générés avec le même outil que les deux fichiers de 5000 lignes utilisés jusqu'ici dans le tutoriel du package, mais avec des règles différentes :\n",
    "- les deux fichiers ne se recouvrent qu'à 90%, c'est-dire que 10% des individus du fichier A ne sont pas dans le fichier B, et 10% des individus du fichier B ne sont pas dans le fichier A ;\n",
    "- la distribution des erreurs est différente.\n",
    "\n",
    "Comme précédemment, il n'y a pas de doublon dans les fichiers, ce qui signifie qu'un individu peut être lié au maximum à un seul individu de l'autre fichier."
   ]
  },
  {
   "cell_type": "code",
   "execution_count": 34,
   "id": "b3c54891-9d53-4c37-a969-f6164f711762",
   "metadata": {
    "tags": []
   },
   "outputs": [],
   "source": [
    "### Téléchargement des données\n",
    "#url <- \"https://raw.githubusercontent.com/InseeFrLab/appariement/main/data/synthetic_data_10000_A.csv\"\n",
    "#destfile <- \"synthetic_data_10000_A.csv\"\n",
    "#download.file(url, destfile)\n",
    "#url <- \"https://raw.githubusercontent.com/InseeFrLab/appariement/main/data/synthetic_data_10000_B.csv\"\n",
    "#destfile <- \"synthetic_data_10000_B.csv\"\n",
    "#download.file(url, destfile)"
   ]
  },
  {
   "cell_type": "code",
   "execution_count": 35,
   "id": "d20933fe-5860-4fe8-a993-5187b59349b0",
   "metadata": {
    "tags": []
   },
   "outputs": [],
   "source": [
    "### Chargement des données\n",
    "dfA <- read.csv('synthetic_data_10000_A.csv')\n",
    "dfB <- read.csv('synthetic_data_10000_B.csv')"
   ]
  },
  {
   "cell_type": "code",
   "execution_count": 36,
   "id": "eb306ca0-1517-4f24-b3db-19a6d06f5679",
   "metadata": {
    "tags": []
   },
   "outputs": [
    {
     "data": {
      "text/html": [
       "<table class=\"dataframe\">\n",
       "<caption>A data.frame: 3 × 10</caption>\n",
       "<thead>\n",
       "\t<tr><th></th><th scope=col>rec_id</th><th scope=col>given_name</th><th scope=col>surname</th><th scope=col>street_number</th><th scope=col>address_1</th><th scope=col>address_2</th><th scope=col>suburb</th><th scope=col>postcode</th><th scope=col>date_of_birth</th><th scope=col>sorting_key</th></tr>\n",
       "\t<tr><th></th><th scope=col>&lt;chr&gt;</th><th scope=col>&lt;chr&gt;</th><th scope=col>&lt;chr&gt;</th><th scope=col>&lt;dbl&gt;</th><th scope=col>&lt;chr&gt;</th><th scope=col>&lt;chr&gt;</th><th scope=col>&lt;chr&gt;</th><th scope=col>&lt;int&gt;</th><th scope=col>&lt;dbl&gt;</th><th scope=col>&lt;int&gt;</th></tr>\n",
       "</thead>\n",
       "<tbody>\n",
       "\t<tr><th scope=row>1</th><td>rec-6058-org</td><td>robert </td><td>clarke </td><td> 4</td><td>blythe close    </td><td>brentwood vlge</td><td>devonport </td><td>3178</td><td>19510506</td><td>6058</td></tr>\n",
       "\t<tr><th scope=row>2</th><td>rec-4926-org</td><td>melanie</td><td>garnett</td><td> 9</td><td>byrne street    </td><td>              </td><td>mirrabooka</td><td>2870</td><td>      NA</td><td>4926</td></tr>\n",
       "\t<tr><th scope=row>3</th><td>rec-4724-org</td><td>david  </td><td>white  </td><td>17</td><td>halford crescent</td><td>              </td><td>          </td><td>7030</td><td>19300220</td><td>4724</td></tr>\n",
       "</tbody>\n",
       "</table>\n"
      ],
      "text/latex": [
       "A data.frame: 3 × 10\n",
       "\\begin{tabular}{r|llllllllll}\n",
       "  & rec\\_id & given\\_name & surname & street\\_number & address\\_1 & address\\_2 & suburb & postcode & date\\_of\\_birth & sorting\\_key\\\\\n",
       "  & <chr> & <chr> & <chr> & <dbl> & <chr> & <chr> & <chr> & <int> & <dbl> & <int>\\\\\n",
       "\\hline\n",
       "\t1 & rec-6058-org & robert  & clarke  &  4 & blythe close     & brentwood vlge & devonport  & 3178 & 19510506 & 6058\\\\\n",
       "\t2 & rec-4926-org & melanie & garnett &  9 & byrne street     &                & mirrabooka & 2870 &       NA & 4926\\\\\n",
       "\t3 & rec-4724-org & david   & white   & 17 & halford crescent &                &            & 7030 & 19300220 & 4724\\\\\n",
       "\\end{tabular}\n"
      ],
      "text/markdown": [
       "\n",
       "A data.frame: 3 × 10\n",
       "\n",
       "| <!--/--> | rec_id &lt;chr&gt; | given_name &lt;chr&gt; | surname &lt;chr&gt; | street_number &lt;dbl&gt; | address_1 &lt;chr&gt; | address_2 &lt;chr&gt; | suburb &lt;chr&gt; | postcode &lt;int&gt; | date_of_birth &lt;dbl&gt; | sorting_key &lt;int&gt; |\n",
       "|---|---|---|---|---|---|---|---|---|---|---|\n",
       "| 1 | rec-6058-org | robert  | clarke  |  4 | blythe close     | brentwood vlge | devonport  | 3178 | 19510506 | 6058 |\n",
       "| 2 | rec-4926-org | melanie | garnett |  9 | byrne street     | <!----> | mirrabooka | 2870 |       NA | 4926 |\n",
       "| 3 | rec-4724-org | david   | white   | 17 | halford crescent | <!----> | <!----> | 7030 | 19300220 | 4724 |\n",
       "\n"
      ],
      "text/plain": [
       "  rec_id       given_name surname street_number address_1        address_2     \n",
       "1 rec-6058-org robert     clarke   4            blythe close     brentwood vlge\n",
       "2 rec-4926-org melanie    garnett  9            byrne street                   \n",
       "3 rec-4724-org david      white   17            halford crescent               \n",
       "  suburb     postcode date_of_birth sorting_key\n",
       "1 devonport  3178     19510506      6058       \n",
       "2 mirrabooka 2870           NA      4926       \n",
       "3            7030     19300220      4724       "
      ]
     },
     "metadata": {},
     "output_type": "display_data"
    }
   ],
   "source": [
    "head(dfA, 3)"
   ]
  },
  {
   "cell_type": "code",
   "execution_count": 37,
   "id": "649de82f-1f45-4291-a95a-18ccbc84cc8f",
   "metadata": {
    "tags": []
   },
   "outputs": [
    {
     "data": {
      "text/html": [
       "<table class=\"dataframe\">\n",
       "<caption>A data.frame: 3 × 10</caption>\n",
       "<thead>\n",
       "\t<tr><th></th><th scope=col>rec_id</th><th scope=col>given_name</th><th scope=col>surname</th><th scope=col>street_number</th><th scope=col>address_1</th><th scope=col>address_2</th><th scope=col>suburb</th><th scope=col>postcode</th><th scope=col>date_of_birth</th><th scope=col>sorting_key</th></tr>\n",
       "\t<tr><th></th><th scope=col>&lt;chr&gt;</th><th scope=col>&lt;chr&gt;</th><th scope=col>&lt;chr&gt;</th><th scope=col>&lt;dbl&gt;</th><th scope=col>&lt;chr&gt;</th><th scope=col>&lt;chr&gt;</th><th scope=col>&lt;chr&gt;</th><th scope=col>&lt;chr&gt;</th><th scope=col>&lt;dbl&gt;</th><th scope=col>&lt;int&gt;</th></tr>\n",
       "</thead>\n",
       "<tbody>\n",
       "\t<tr><th scope=row>1</th><td>rec-2896-dup-0</td><td>zachazuah</td><td>miell    </td><td>73</td><td>neeld place       </td><td>       </td><td>anglsea       </td><td>3163</td><td>19850524</td><td>2896</td></tr>\n",
       "\t<tr><th scope=row>2</th><td>rec-5417-dup-0</td><td>jagco    </td><td>galarneau</td><td>55</td><td>dobell circuit    </td><td>       </td><td>sunshine      </td><td>4261</td><td>19880618</td><td>5417</td></tr>\n",
       "\t<tr><th scope=row>3</th><td>rec-3033-dup-0</td><td>fioan    </td><td>zilm     </td><td> 8</td><td>sternberg cbescent</td><td>beth-el</td><td>redbank plains</td><td>2478</td><td>19479316</td><td>3033</td></tr>\n",
       "</tbody>\n",
       "</table>\n"
      ],
      "text/latex": [
       "A data.frame: 3 × 10\n",
       "\\begin{tabular}{r|llllllllll}\n",
       "  & rec\\_id & given\\_name & surname & street\\_number & address\\_1 & address\\_2 & suburb & postcode & date\\_of\\_birth & sorting\\_key\\\\\n",
       "  & <chr> & <chr> & <chr> & <dbl> & <chr> & <chr> & <chr> & <chr> & <dbl> & <int>\\\\\n",
       "\\hline\n",
       "\t1 & rec-2896-dup-0 & zachazuah & miell     & 73 & neeld place        &         & anglsea        & 3163 & 19850524 & 2896\\\\\n",
       "\t2 & rec-5417-dup-0 & jagco     & galarneau & 55 & dobell circuit     &         & sunshine       & 4261 & 19880618 & 5417\\\\\n",
       "\t3 & rec-3033-dup-0 & fioan     & zilm      &  8 & sternberg cbescent & beth-el & redbank plains & 2478 & 19479316 & 3033\\\\\n",
       "\\end{tabular}\n"
      ],
      "text/markdown": [
       "\n",
       "A data.frame: 3 × 10\n",
       "\n",
       "| <!--/--> | rec_id &lt;chr&gt; | given_name &lt;chr&gt; | surname &lt;chr&gt; | street_number &lt;dbl&gt; | address_1 &lt;chr&gt; | address_2 &lt;chr&gt; | suburb &lt;chr&gt; | postcode &lt;chr&gt; | date_of_birth &lt;dbl&gt; | sorting_key &lt;int&gt; |\n",
       "|---|---|---|---|---|---|---|---|---|---|---|\n",
       "| 1 | rec-2896-dup-0 | zachazuah | miell     | 73 | neeld place        | <!----> | anglsea        | 3163 | 19850524 | 2896 |\n",
       "| 2 | rec-5417-dup-0 | jagco     | galarneau | 55 | dobell circuit     | <!----> | sunshine       | 4261 | 19880618 | 5417 |\n",
       "| 3 | rec-3033-dup-0 | fioan     | zilm      |  8 | sternberg cbescent | beth-el | redbank plains | 2478 | 19479316 | 3033 |\n",
       "\n"
      ],
      "text/plain": [
       "  rec_id         given_name surname   street_number address_1         \n",
       "1 rec-2896-dup-0 zachazuah  miell     73            neeld place       \n",
       "2 rec-5417-dup-0 jagco      galarneau 55            dobell circuit    \n",
       "3 rec-3033-dup-0 fioan      zilm       8            sternberg cbescent\n",
       "  address_2 suburb         postcode date_of_birth sorting_key\n",
       "1           anglsea        3163     19850524      2896       \n",
       "2           sunshine       4261     19880618      5417       \n",
       "3 beth-el   redbank plains 2478     19479316      3033       "
      ]
     },
     "metadata": {},
     "output_type": "display_data"
    }
   ],
   "source": [
    "head(dfB, 3)"
   ]
  },
  {
   "cell_type": "code",
   "execution_count": 38,
   "id": "90644f17-dcde-472e-8569-c8c702682e74",
   "metadata": {
    "tags": []
   },
   "outputs": [
    {
     "name": "stderr",
     "output_type": "stream",
     "text": [
      "Warning message in eval(expr, envir, enclos):\n",
      "“NAs introduced by coercion”\n"
     ]
    }
   ],
   "source": [
    "### Création d'un identifiant commun \n",
    "dfA$rec_id_stripped <- substr(dfA$rec_id, 1, nchar(dfA$rec_id)-4)\n",
    "dfB$rec_id_stripped <- substr(dfB$rec_id, 1, nchar(dfB$rec_id)-6)\n",
    "\n",
    "### Conversion de la colonne postcode en type numérique pour le fichier B, \n",
    "### afin que le type soit le même que dans le fichier A\n",
    "dfB$postcode <- as.numeric(dfB$postcode)"
   ]
  },
  {
   "cell_type": "markdown",
   "id": "5d2aa5f4-3869-45fe-b157-4ecc4e98b31c",
   "metadata": {},
   "source": [
    "La fonction ci-dessous permet de calculer les mesures de qualité de l'appariement pour ces deux fichiers."
   ]
  },
  {
   "cell_type": "code",
   "execution_count": 39,
   "id": "7c3c8ff9-199f-4ad0-84f3-0c418a687df6",
   "metadata": {
    "tags": []
   },
   "outputs": [],
   "source": [
    "### Définition d'une fonction pour calculer les mesures de qualité de l'appariement\n",
    "### Il faut au préalable ajouter la colonne truth à l'objet pairs avec la ligne de code suivante :\n",
    "#pairs <- compare_vars(pairs, \"truth\", on_x = \"rec_id_stripped\", on_y = \"rec_id_stripped\")\n",
    "\n",
    "compute_performance_metrics_90_percent_overlap <- function(pairs, dataset_size, result_column = \"selected_optimal\") {\n",
    "    TP <- sum(subset(pairs, select = result_column) & pairs$truth)\n",
    "    FP <- sum(subset(pairs, select = result_column) & !pairs$truth)\n",
    "    FN <- dataset_size - TP\n",
    "    TN <- dataset_size * dataset_size - TP - FN - FP\n",
    "    \n",
    "    precision <- TP / (TP + FP)\n",
    "    recall <- TP / (TP + FN)\n",
    "    Fscore <- 2 * precision * recall / (precision + recall)\n",
    "    return(list(TP = TP, TN = TN, FP = FP, FN = FN, precision = precision, recall = recall, Fscore = Fscore))\n",
    "    }"
   ]
  },
  {
   "cell_type": "code",
   "execution_count": null,
   "id": "3f456a5a-7475-446a-810a-8b4e770f76b5",
   "metadata": {},
   "outputs": [],
   "source": []
  }
 ],
 "metadata": {
  "kernelspec": {
   "display_name": "Python 3 (ipykernel)",
   "language": "python",
   "name": "python3"
  },
  "language_info": {
   "codemirror_mode": {
    "name": "ipython",
    "version": 3
   },
   "file_extension": ".py",
   "mimetype": "text/x-python",
   "name": "python",
   "nbconvert_exporter": "python",
   "pygments_lexer": "ipython3",
   "version": "3.10.9"
  }
 },
 "nbformat": 4,
 "nbformat_minor": 5
}
