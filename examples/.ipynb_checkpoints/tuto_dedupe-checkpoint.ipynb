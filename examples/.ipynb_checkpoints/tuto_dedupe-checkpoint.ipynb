{
 "cells": [
  {
   "cell_type": "markdown",
   "metadata": {},
   "source": [
    "# Notebook de prise en main du package dedupe"
   ]
  },
  {
   "cell_type": "markdown",
   "metadata": {},
   "source": [
    "Ce notebook vise à présenter le fonctionnement du package dedupe et les possibilités qu'il offre. Le package dedupe est d'abord un outil dédié au dédoublonnage, mais l'appariement de deux fichiers est aussi pris en compte. Il adopte une approche ambitieuse reprosant sur du _machine learning_.\n",
    "\n",
    "Les données utilisées sont des données synthétiques issues du [générateur de données synthétiques du package FEBRL](https://users.cecs.anu.edu.au/~Peter.Christen/Febrl/febrl-0.3/febrldoc-0.3/node70.html). Deux fichiers sont disponibles. Le premier fichier contient 5000 individus fictifs dont les traits d'identité (nom, prénom, date de naissance, etc.) proviennent de tables de fréquence tirés d'annuaires téléphoniques australiens. Le second fichier contient les mêmes 5000 individus, mais avec des erreurs sur les traits d'identité (substitution de caractères, suppression d'une valeur, remplacement par des variantes communes d'orthographe, etc.).\n",
    "\n",
    "La documentation du package dedupe est disponible [ici](https://docs.dedupe.io/en/latest/).\n",
    "\n",
    "Les différents termes techniques et notions évoquées dans ce notebook sont définis dans le document de travail associé."
   ]
  },
  {
   "cell_type": "markdown",
   "metadata": {},
   "source": [
    "## Import des librairies et chargement des données"
   ]
  },
  {
   "cell_type": "code",
   "execution_count": 1,
   "metadata": {
    "collapsed": true,
    "jupyter": {
     "outputs_hidden": true
    },
    "tags": []
   },
   "outputs": [
    {
     "name": "stdout",
     "output_type": "stream",
     "text": [
      "Requirement already satisfied: recordLinkage in /opt/conda/lib/python3.9/site-packages (0.15)\n",
      "Requirement already satisfied: scipy>=1 in /opt/conda/lib/python3.9/site-packages (from recordLinkage) (1.8.1)\n",
      "Requirement already satisfied: scikit-learn>=0.19.0 in /opt/conda/lib/python3.9/site-packages (from recordLinkage) (1.1.1)\n",
      "Requirement already satisfied: numpy>=1.13.0 in /opt/conda/lib/python3.9/site-packages (from recordLinkage) (1.21.6)\n",
      "Requirement already satisfied: jellyfish>=0.8.0 in /opt/conda/lib/python3.9/site-packages (from recordLinkage) (0.9.0)\n",
      "Requirement already satisfied: pandas<2,>=1 in /opt/conda/lib/python3.9/site-packages (from recordLinkage) (1.4.2)\n",
      "Requirement already satisfied: joblib in /opt/conda/lib/python3.9/site-packages (from recordLinkage) (1.1.0)\n",
      "Requirement already satisfied: python-dateutil>=2.8.1 in /opt/conda/lib/python3.9/site-packages (from pandas<2,>=1->recordLinkage) (2.8.2)\n",
      "Requirement already satisfied: pytz>=2020.1 in /opt/conda/lib/python3.9/site-packages (from pandas<2,>=1->recordLinkage) (2022.1)\n",
      "Requirement already satisfied: threadpoolctl>=2.0.0 in /opt/conda/lib/python3.9/site-packages (from scikit-learn>=0.19.0->recordLinkage) (3.1.0)\n",
      "Requirement already satisfied: six>=1.5 in /opt/conda/lib/python3.9/site-packages (from python-dateutil>=2.8.1->pandas<2,>=1->recordLinkage) (1.16.0)\n",
      "Requirement already satisfied: dedupe in /opt/conda/lib/python3.9/site-packages (2.0.17)\n",
      "Requirement already satisfied: dedupe-variable-datetime in /opt/conda/lib/python3.9/site-packages (from dedupe) (0.1.5)\n",
      "Requirement already satisfied: doublemetaphone in /opt/conda/lib/python3.9/site-packages (from dedupe) (1.1)\n",
      "Requirement already satisfied: typing-extensions in /opt/conda/lib/python3.9/site-packages (from dedupe) (4.2.0)\n",
      "Requirement already satisfied: affinegap>=1.3 in /opt/conda/lib/python3.9/site-packages (from dedupe) (1.12)\n",
      "Requirement already satisfied: Levenshtein-search==1.4.5 in /opt/conda/lib/python3.9/site-packages (from dedupe) (1.4.5)\n",
      "Requirement already satisfied: scikit-learn in /opt/conda/lib/python3.9/site-packages (from dedupe) (1.1.1)\n",
      "Requirement already satisfied: highered>=0.2.0 in /opt/conda/lib/python3.9/site-packages (from dedupe) (0.2.1)\n",
      "Requirement already satisfied: numpy>=1.13 in /opt/conda/lib/python3.9/site-packages (from dedupe) (1.21.6)\n",
      "Requirement already satisfied: haversine>=0.4.1 in /opt/conda/lib/python3.9/site-packages (from dedupe) (2.6.0)\n",
      "Requirement already satisfied: simplecosine>=1.2 in /opt/conda/lib/python3.9/site-packages (from dedupe) (1.2)\n",
      "Requirement already satisfied: BTrees>=4.1.4 in /opt/conda/lib/python3.9/site-packages (from dedupe) (4.10.0)\n",
      "Requirement already satisfied: zope.index in /opt/conda/lib/python3.9/site-packages (from dedupe) (5.2.0)\n",
      "Requirement already satisfied: categorical-distance>=1.9 in /opt/conda/lib/python3.9/site-packages (from dedupe) (1.9)\n",
      "Requirement already satisfied: zope.interface>=5.0.0 in /opt/conda/lib/python3.9/site-packages (from BTrees>=4.1.4->dedupe) (5.4.0)\n",
      "Requirement already satisfied: persistent>=4.1.0 in /opt/conda/lib/python3.9/site-packages (from BTrees>=4.1.4->dedupe) (4.9.0)\n",
      "Requirement already satisfied: pyhacrf-datamade>=0.2.0 in /opt/conda/lib/python3.9/site-packages (from highered>=0.2.0->dedupe) (0.2.6)\n",
      "Requirement already satisfied: future in /opt/conda/lib/python3.9/site-packages (from dedupe-variable-datetime->dedupe) (0.18.2)\n",
      "Requirement already satisfied: datetime-distance in /opt/conda/lib/python3.9/site-packages (from dedupe-variable-datetime->dedupe) (0.1.3)\n",
      "Requirement already satisfied: joblib>=1.0.0 in /opt/conda/lib/python3.9/site-packages (from scikit-learn->dedupe) (1.1.0)\n",
      "Requirement already satisfied: scipy>=1.3.2 in /opt/conda/lib/python3.9/site-packages (from scikit-learn->dedupe) (1.8.1)\n",
      "Requirement already satisfied: threadpoolctl>=2.0.0 in /opt/conda/lib/python3.9/site-packages (from scikit-learn->dedupe) (3.1.0)\n",
      "Requirement already satisfied: setuptools in /opt/conda/lib/python3.9/site-packages (from zope.index->dedupe) (62.3.2)\n",
      "Requirement already satisfied: six in /opt/conda/lib/python3.9/site-packages (from zope.index->dedupe) (1.16.0)\n",
      "Requirement already satisfied: cffi in /opt/conda/lib/python3.9/site-packages (from persistent>=4.1.0->BTrees>=4.1.4->dedupe) (1.15.0)\n",
      "Requirement already satisfied: PyLBFGS>=0.1.3 in /opt/conda/lib/python3.9/site-packages (from pyhacrf-datamade>=0.2.0->highered>=0.2.0->dedupe) (0.2.0.14)\n",
      "Requirement already satisfied: python-dateutil>=2.6.0 in /opt/conda/lib/python3.9/site-packages (from datetime-distance->dedupe-variable-datetime->dedupe) (2.8.2)\n",
      "Requirement already satisfied: pycparser in /opt/conda/lib/python3.9/site-packages (from cffi->persistent>=4.1.0->BTrees>=4.1.4->dedupe) (2.21)\n"
     ]
    }
   ],
   "source": [
    "### Installation des packages recordLinkage et dedupe\n",
    "!pip install recordLinkage\n",
    "!pip install dedupe"
   ]
  },
  {
   "cell_type": "code",
   "execution_count": 2,
   "metadata": {},
   "outputs": [],
   "source": [
    "### Import des librairies nécessaires\n",
    "import pandas as pd\n",
    "import recordlinkage\n",
    "import dedupe\n",
    "from recordlinkage.datasets import load_febrl4"
   ]
  },
  {
   "cell_type": "code",
   "execution_count": 3,
   "metadata": {},
   "outputs": [],
   "source": [
    "### Chargement des données\n",
    "dfA, dfB = load_febrl4()"
   ]
  },
  {
   "cell_type": "code",
   "execution_count": 5,
   "metadata": {},
   "outputs": [],
   "source": [
    "n = len(dfA)"
   ]
  },
  {
   "cell_type": "markdown",
   "metadata": {},
   "source": [
    "Nous avons chargé les données sous forme de DataFrame de la librairie pandas. C'est un format pratique pour manipuler des données tabulaires."
   ]
  },
  {
   "cell_type": "code",
   "execution_count": 6,
   "metadata": {},
   "outputs": [
    {
     "data": {
      "text/html": [
       "<div>\n",
       "<style scoped>\n",
       "    .dataframe tbody tr th:only-of-type {\n",
       "        vertical-align: middle;\n",
       "    }\n",
       "\n",
       "    .dataframe tbody tr th {\n",
       "        vertical-align: top;\n",
       "    }\n",
       "\n",
       "    .dataframe thead th {\n",
       "        text-align: right;\n",
       "    }\n",
       "</style>\n",
       "<table border=\"1\" class=\"dataframe\">\n",
       "  <thead>\n",
       "    <tr style=\"text-align: right;\">\n",
       "      <th></th>\n",
       "      <th>given_name</th>\n",
       "      <th>surname</th>\n",
       "      <th>street_number</th>\n",
       "      <th>address_1</th>\n",
       "      <th>address_2</th>\n",
       "      <th>suburb</th>\n",
       "      <th>postcode</th>\n",
       "      <th>state</th>\n",
       "      <th>date_of_birth</th>\n",
       "      <th>soc_sec_id</th>\n",
       "    </tr>\n",
       "    <tr>\n",
       "      <th>rec_id</th>\n",
       "      <th></th>\n",
       "      <th></th>\n",
       "      <th></th>\n",
       "      <th></th>\n",
       "      <th></th>\n",
       "      <th></th>\n",
       "      <th></th>\n",
       "      <th></th>\n",
       "      <th></th>\n",
       "      <th></th>\n",
       "    </tr>\n",
       "  </thead>\n",
       "  <tbody>\n",
       "    <tr>\n",
       "      <th>rec-1070-org</th>\n",
       "      <td>michaela</td>\n",
       "      <td>neumann</td>\n",
       "      <td>8</td>\n",
       "      <td>stanley street</td>\n",
       "      <td>miami</td>\n",
       "      <td>winston hills</td>\n",
       "      <td>4223</td>\n",
       "      <td>nsw</td>\n",
       "      <td>19151111</td>\n",
       "      <td>5304218</td>\n",
       "    </tr>\n",
       "    <tr>\n",
       "      <th>rec-1016-org</th>\n",
       "      <td>courtney</td>\n",
       "      <td>painter</td>\n",
       "      <td>12</td>\n",
       "      <td>pinkerton circuit</td>\n",
       "      <td>bega flats</td>\n",
       "      <td>richlands</td>\n",
       "      <td>4560</td>\n",
       "      <td>vic</td>\n",
       "      <td>19161214</td>\n",
       "      <td>4066625</td>\n",
       "    </tr>\n",
       "    <tr>\n",
       "      <th>rec-4405-org</th>\n",
       "      <td>charles</td>\n",
       "      <td>green</td>\n",
       "      <td>38</td>\n",
       "      <td>salkauskas crescent</td>\n",
       "      <td>kela</td>\n",
       "      <td>dapto</td>\n",
       "      <td>4566</td>\n",
       "      <td>nsw</td>\n",
       "      <td>19480930</td>\n",
       "      <td>4365168</td>\n",
       "    </tr>\n",
       "    <tr>\n",
       "      <th>rec-1288-org</th>\n",
       "      <td>vanessa</td>\n",
       "      <td>parr</td>\n",
       "      <td>905</td>\n",
       "      <td>macquoid place</td>\n",
       "      <td>broadbridge manor</td>\n",
       "      <td>south grafton</td>\n",
       "      <td>2135</td>\n",
       "      <td>sa</td>\n",
       "      <td>19951119</td>\n",
       "      <td>9239102</td>\n",
       "    </tr>\n",
       "    <tr>\n",
       "      <th>rec-3585-org</th>\n",
       "      <td>mikayla</td>\n",
       "      <td>malloney</td>\n",
       "      <td>37</td>\n",
       "      <td>randwick road</td>\n",
       "      <td>avalind</td>\n",
       "      <td>hoppers crossing</td>\n",
       "      <td>4552</td>\n",
       "      <td>vic</td>\n",
       "      <td>19860208</td>\n",
       "      <td>7207688</td>\n",
       "    </tr>\n",
       "  </tbody>\n",
       "</table>\n",
       "</div>"
      ],
      "text/plain": [
       "             given_name   surname street_number            address_1  \\\n",
       "rec_id                                                                 \n",
       "rec-1070-org   michaela   neumann             8       stanley street   \n",
       "rec-1016-org   courtney   painter            12    pinkerton circuit   \n",
       "rec-4405-org    charles     green            38  salkauskas crescent   \n",
       "rec-1288-org    vanessa      parr           905       macquoid place   \n",
       "rec-3585-org    mikayla  malloney            37        randwick road   \n",
       "\n",
       "                      address_2            suburb postcode state  \\\n",
       "rec_id                                                             \n",
       "rec-1070-org              miami     winston hills     4223   nsw   \n",
       "rec-1016-org         bega flats         richlands     4560   vic   \n",
       "rec-4405-org               kela             dapto     4566   nsw   \n",
       "rec-1288-org  broadbridge manor     south grafton     2135    sa   \n",
       "rec-3585-org            avalind  hoppers crossing     4552   vic   \n",
       "\n",
       "             date_of_birth soc_sec_id  \n",
       "rec_id                                 \n",
       "rec-1070-org      19151111    5304218  \n",
       "rec-1016-org      19161214    4066625  \n",
       "rec-4405-org      19480930    4365168  \n",
       "rec-1288-org      19951119    9239102  \n",
       "rec-3585-org      19860208    7207688  "
      ]
     },
     "execution_count": 6,
     "metadata": {},
     "output_type": "execute_result"
    }
   ],
   "source": [
    "dfA.head()"
   ]
  },
  {
   "cell_type": "markdown",
   "metadata": {},
   "source": [
    "Le package dedupe prend en entrée des dictionnaires, on procède donc à une transformation des données. "
   ]
  },
  {
   "cell_type": "code",
   "execution_count": 7,
   "metadata": {},
   "outputs": [],
   "source": [
    "### Création de dictionnaires pour coller au format requis par le package\n",
    "dfA_dict = dfA.astype(str).to_dict(orient = 'index')\n",
    "dfB_dict = dfB.astype(str).to_dict(orient = 'index')"
   ]
  },
  {
   "cell_type": "code",
   "execution_count": 8,
   "metadata": {},
   "outputs": [
    {
     "ename": "SyntaxError",
     "evalue": "Missing parentheses in call to 'print'. Did you mean print(dfA_dict['rec-1070-org'], dfA_dict['rec-1016-org'], dfA_dict['rec-4405-org'])? (2599590402.py, line 2)",
     "output_type": "error",
     "traceback": [
      "\u001b[0;36m  Input \u001b[0;32mIn [7]\u001b[0;36m\u001b[0m\n\u001b[0;31m    print dfA_dict['rec-1070-org'], dfA_dict['rec-1016-org'], dfA_dict['rec-4405-org']\u001b[0m\n\u001b[0m          ^\u001b[0m\n\u001b[0;31mSyntaxError\u001b[0m\u001b[0;31m:\u001b[0m Missing parentheses in call to 'print'. Did you mean print(dfA_dict['rec-1070-org'], dfA_dict['rec-1016-org'], dfA_dict['rec-4405-org'])?\n"
     ]
    }
   ],
   "source": [
    "### Affichage de quelques éléments du dictionnaire\n",
    "print(dfA_dict['rec-1070-org'])\n",
    "print(dfA_dict['rec-1016-org'])\n",
    "print(dfA_dict['rec-4405-org'])"
   ]
  },
  {
   "cell_type": "markdown",
   "metadata": {},
   "source": [
    "## Appariement"
   ]
  },
  {
   "cell_type": "markdown",
   "metadata": {},
   "source": [
    "Un appariement avec dedupe repose sur du _machine learning_, et plus particulièrement sur un processus d'___active learning___. Concrètement, il va être nécessaire d'annoter un échantillon de paires pour que l'algorithme puisse par la suite apprendre à les classer. L'approche proposée par le package dedupe est intéressante parce qu'elle vise à maximiser l'information obtenue de l'annotation pour un nombre de paires annotées donné.\n",
    "L'_active learning_ consiste à faire intervenir le modèle dans le choix des paires à annoter. Le modèle va proposer à l'annotation les paires sur lesquelles il est le plus incertain, ce qui permet d'améliorer plus rapidement la qualité des prédictions qu'avec des paires tirées aléatoirement.\n",
    "\n",
    "L'autre particularité de l'approche du package dedupe concerne l'étape d'indexation. Ici, ce n'est pas l'utilisateur qui va définir des règles, **c'est l'algorithme qui essaie de déterminer automatiquement les meilleures règles de blocage**.\n",
    "\n",
    "Le package a un côté \"boîte noire\" sur certaines parties de l'appariement. Ainsi, le déroulement classique n'est pas forcément respecté.\n",
    "\n",
    "De façon pratique, un processus d'appariement avec le package dedupe se déroule de la façon suivante :\n",
    "- Déclaration des champs identifiants\n",
    "- Préparation de l'apprentissage\n",
    "- Annotation par active learning\n",
    "- Entraînement du modèle de classfication\n",
    "- Prédiction du statut de chaque paire\n",
    "- Évaluation de la qualité"
   ]
  },
  {
   "cell_type": "markdown",
   "metadata": {},
   "source": [
    "### Déclaration des champs identifiants"
   ]
  },
  {
   "cell_type": "markdown",
   "metadata": {},
   "source": [
    "La première étape consiste à définir quels champs vont être utilisés pour apparier les données, à déclarer leur type et la présence éventuelle de données manquantes. Pour cela, on vérifie d'abord quels champs contiennent des valeurs manquantes."
   ]
  },
  {
   "cell_type": "code",
   "execution_count": 9,
   "metadata": {},
   "outputs": [
    {
     "data": {
      "text/plain": [
       "given_name       112\n",
       "surname           48\n",
       "street_number    158\n",
       "address_1         98\n",
       "address_2        420\n",
       "suburb            55\n",
       "postcode           0\n",
       "state             50\n",
       "date_of_birth     94\n",
       "soc_sec_id         0\n",
       "dtype: int64"
      ]
     },
     "execution_count": 9,
     "metadata": {},
     "output_type": "execute_result"
    }
   ],
   "source": [
    "dfA.isna().sum()"
   ]
  },
  {
   "cell_type": "markdown",
   "metadata": {},
   "source": [
    "Dans ce notebook, on ne va utiliser qu'une partie des champs disponibles."
   ]
  },
  {
   "cell_type": "code",
   "execution_count": 10,
   "metadata": {},
   "outputs": [],
   "source": [
    "### Déclaration des champs identifiants ainsi que de leur type\n",
    "fields = [{'field' : 'given_name', 'type': 'String', 'has missing':True},\n",
    "          {'field' : 'surname', 'type': 'String', 'has missing':True},\n",
    "          {'field' : 'address_1', 'type': 'String', 'has missing':True},\n",
    "          {'field' : 'suburb', 'type': 'String', 'has missing':True},\n",
    "          {'field' : 'postcode', 'type': 'String'},\n",
    "          {'field' : 'date_of_birth', 'type': 'String', 'has missing':True},\n",
    "         ]"
   ]
  },
  {
   "cell_type": "markdown",
   "metadata": {},
   "source": [
    "On peut ensuite initialiser un objet que l'on nomme _linker_, sur lequel on va passer toutes les instructions suivantes."
   ]
  },
  {
   "cell_type": "code",
   "execution_count": 11,
   "metadata": {},
   "outputs": [],
   "source": [
    "### Initialisation de l'objet dedupe\n",
    "linker = dedupe.RecordLink(fields)"
   ]
  },
  {
   "cell_type": "markdown",
   "metadata": {},
   "source": [
    "### Préparation de l'apprentissage"
   ]
  },
  {
   "cell_type": "markdown",
   "metadata": {},
   "source": [
    "La méthode _prepare_training_ permet de préparer l'objet linker pour le processus d'annotation. L'algorithme teste de premières règles de blocage sur une taille d'échantillon définie par le paramètre `sample_size`. Le temps de calcul croît avec la valeur de ce paramètre."
   ]
  },
  {
   "cell_type": "code",
   "execution_count": 12,
   "metadata": {},
   "outputs": [],
   "source": [
    "### Initialisation de l'active learner\n",
    "linker.prepare_training(dfA_dict, dfB_dict, sample_size=500)"
   ]
  },
  {
   "cell_type": "markdown",
   "metadata": {},
   "source": [
    "### Annotation par active learning"
   ]
  },
  {
   "cell_type": "markdown",
   "metadata": {},
   "source": [
    "À ce stade, il est temps d'annoter des paires. Le modèle affiche des paires d'individus et l'utilisateur doit décider s'il s'agit du même individu ou non. Il n'y a pas de règle absolue sur le nombre de paires à annoter, mais la documentation du package conseille au moins 10 exemples positifs et 10 exemples négatifs. En pratique, il peut arriver que le modèle ne propose que des exemples négatifs ou inversement que des exemples positifs pendant assez longtemps...\n",
    "\n",
    "Les annotations vont être stockées dans l'objet _linker_."
   ]
  },
  {
   "cell_type": "code",
   "execution_count": 13,
   "metadata": {
    "tags": []
   },
   "outputs": [
    {
     "name": "stderr",
     "output_type": "stream",
     "text": [
      "given_name : julia\n",
      "surname : clarke\n",
      "address_1 : marconi crescent\n",
      "suburb : whitfield\n",
      "postcode : 2642\n",
      "date_of_birth : nan\n",
      "\n",
      "given_name : julia\n",
      "surname : clarke\n",
      "address_1 : marconi crescent\n",
      "suburb : whitfield\n",
      "postcode : 2642\n",
      "date_of_birth : nan\n",
      "\n",
      "0/10 positive, 0/10 negative\n",
      "Do these records refer to the same thing?\n",
      "(y)es / (n)o / (u)nsure / (f)inished\n"
     ]
    },
    {
     "name": "stdin",
     "output_type": "stream",
     "text": [
      " y\n"
     ]
    },
    {
     "name": "stderr",
     "output_type": "stream",
     "text": [
      "given_name : hayden\n",
      "surname : stapley\n",
      "address_1 : tindale street\n",
      "suburb : cromer heights\n",
      "postcode : 4125\n",
      "date_of_birth : nan\n",
      "\n",
      "given_name : hayden\n",
      "surname : stapley\n",
      "address_1 : tindale street\n",
      "suburb : cromer heights\n",
      "postcode : 4125\n",
      "date_of_birth : nan\n",
      "\n",
      "1/10 positive, 0/10 negative\n",
      "Do these records refer to the same thing?\n",
      "(y)es / (n)o / (u)nsure / (f)inished / (p)revious\n"
     ]
    },
    {
     "name": "stdin",
     "output_type": "stream",
     "text": [
      " y\n"
     ]
    },
    {
     "name": "stderr",
     "output_type": "stream",
     "text": [
      "given_name : isobel\n",
      "surname : campbell\n",
      "address_1 : nan\n",
      "suburb : strathalbyn\n",
      "postcode : 2770\n",
      "date_of_birth : 19470921\n",
      "\n",
      "given_name : isobel\n",
      "surname : campbell\n",
      "address_1 : nan\n",
      "suburb : strathalbyn\n",
      "postcode : 2770\n",
      "date_of_birth : 19470921\n",
      "\n",
      "2/10 positive, 0/10 negative\n",
      "Do these records refer to the same thing?\n",
      "(y)es / (n)o / (u)nsure / (f)inished / (p)revious\n"
     ]
    },
    {
     "name": "stdin",
     "output_type": "stream",
     "text": [
      " y\n"
     ]
    },
    {
     "name": "stderr",
     "output_type": "stream",
     "text": [
      "given_name : beau\n",
      "surname : zeitzen-van der burg\n",
      "address_1 : william webb drive\n",
      "suburb : bundaberg\n",
      "postcode : 6489\n",
      "date_of_birth : 19500927\n",
      "\n",
      "given_name : beau\n",
      "surname : zeitzen-van der burg\n",
      "address_1 : william webu drive\n",
      "suburb : bundaberg\n",
      "postcode : 6489\n",
      "date_of_birth : 19500927\n",
      "\n",
      "3/10 positive, 0/10 negative\n",
      "Do these records refer to the same thing?\n",
      "(y)es / (n)o / (u)nsure / (f)inished / (p)revious\n"
     ]
    },
    {
     "name": "stdin",
     "output_type": "stream",
     "text": [
      " y\n"
     ]
    },
    {
     "name": "stderr",
     "output_type": "stream",
     "text": [
      "given_name : lewis\n",
      "surname : dorsey\n",
      "address_1 : schomburgk street\n",
      "suburb : woy woy\n",
      "postcode : 2650\n",
      "date_of_birth : nan\n",
      "\n",
      "given_name : lewis\n",
      "surname : dorsey\n",
      "address_1 : nan\n",
      "suburb : woy woy\n",
      "postcode : 2650\n",
      "date_of_birth : nan\n",
      "\n",
      "4/10 positive, 0/10 negative\n",
      "Do these records refer to the same thing?\n",
      "(y)es / (n)o / (u)nsure / (f)inished / (p)revious\n"
     ]
    },
    {
     "name": "stdin",
     "output_type": "stream",
     "text": [
      " y\n"
     ]
    },
    {
     "name": "stderr",
     "output_type": "stream",
     "text": [
      "given_name : annika\n",
      "surname : boyle\n",
      "address_1 : macgregor street\n",
      "suburb : paddington\n",
      "postcode : 3175\n",
      "date_of_birth : nan\n",
      "\n",
      "given_name : annik a\n",
      "surname : boyle\n",
      "address_1 : nan\n",
      "suburb : paddington\n",
      "postcode : 3175\n",
      "date_of_birth : nan\n",
      "\n",
      "5/10 positive, 0/10 negative\n",
      "Do these records refer to the same thing?\n",
      "(y)es / (n)o / (u)nsure / (f)inished / (p)revious\n"
     ]
    },
    {
     "name": "stdin",
     "output_type": "stream",
     "text": [
      " y\n"
     ]
    },
    {
     "name": "stderr",
     "output_type": "stream",
     "text": [
      "given_name : kirra\n",
      "surname : browne\n",
      "address_1 : shoalhaven avenue\n",
      "suburb : surry hills\n",
      "postcode : 3042\n",
      "date_of_birth : 19430407\n",
      "\n",
      "given_name : kirra\n",
      "surname : browne\n",
      "address_1 : shoalhaven avenue\n",
      "suburb : surry hills\n",
      "postcode : 3042\n",
      "date_of_birth : 19403407\n",
      "\n",
      "6/10 positive, 0/10 negative\n",
      "Do these records refer to the same thing?\n",
      "(y)es / (n)o / (u)nsure / (f)inished / (p)revious\n"
     ]
    },
    {
     "name": "stdin",
     "output_type": "stream",
     "text": [
      " y\n"
     ]
    },
    {
     "name": "stderr",
     "output_type": "stream",
     "text": [
      "given_name : georgia\n",
      "surname : kouba\n",
      "address_1 : gay place\n",
      "suburb : east launceston\n",
      "postcode : 4169\n",
      "date_of_birth : 19840526\n",
      "\n",
      "given_name : georgia\n",
      "surname : kouba\n",
      "address_1 : gay place\n",
      "suburb : east lan uceston\n",
      "postcode : 4169\n",
      "date_of_birth : 19830526\n",
      "\n",
      "7/10 positive, 0/10 negative\n",
      "Do these records refer to the same thing?\n",
      "(y)es / (n)o / (u)nsure / (f)inished / (p)revious\n"
     ]
    },
    {
     "name": "stdin",
     "output_type": "stream",
     "text": [
      " y\n"
     ]
    },
    {
     "name": "stderr",
     "output_type": "stream",
     "text": [
      "given_name : joel\n",
      "surname : bowran\n",
      "address_1 : port arthur street\n",
      "suburb : bundaberg\n",
      "postcode : 3927\n",
      "date_of_birth : 19670412\n",
      "\n",
      "given_name : joel\n",
      "surname : bowran\n",
      "address_1 : port arthur street\n",
      "suburb : bundaberg\n",
      "postcode : 3927\n",
      "date_of_birth : 19360117\n",
      "\n",
      "8/10 positive, 0/10 negative\n",
      "Do these records refer to the same thing?\n",
      "(y)es / (n)o / (u)nsure / (f)inished / (p)revious\n"
     ]
    },
    {
     "name": "stdin",
     "output_type": "stream",
     "text": [
      " y\n"
     ]
    },
    {
     "name": "stderr",
     "output_type": "stream",
     "text": [
      "given_name : callum\n",
      "surname : wheatley\n",
      "address_1 : john cleland crescent\n",
      "suburb : florey\n",
      "postcode : 2065\n",
      "date_of_birth : 19651106\n",
      "\n",
      "given_name : callum\n",
      "surname : wheatley\n",
      "address_1 : john cleland crescent\n",
      "suburb : florey\n",
      "postcode : 2063\n",
      "date_of_birth : 19651106\n",
      "\n",
      "9/10 positive, 0/10 negative\n",
      "Do these records refer to the same thing?\n",
      "(y)es / (n)o / (u)nsure / (f)inished / (p)revious\n"
     ]
    },
    {
     "name": "stdin",
     "output_type": "stream",
     "text": [
      " y\n"
     ]
    },
    {
     "name": "stderr",
     "output_type": "stream",
     "text": [
      "given_name : victoria\n",
      "surname : rankine\n",
      "address_1 : redcliffe street\n",
      "suburb : moranbah\n",
      "postcode : 6208\n",
      "date_of_birth : 19260809\n",
      "\n",
      "given_name : victotria\n",
      "surname : rankine\n",
      "address_1 : redcliffe sttreet\n",
      "suburb : moranbah\n",
      "postcode : 6298\n",
      "date_of_birth : 19260809\n",
      "\n",
      "10/10 positive, 0/10 negative\n",
      "Do these records refer to the same thing?\n",
      "(y)es / (n)o / (u)nsure / (f)inished / (p)revious\n"
     ]
    },
    {
     "name": "stdin",
     "output_type": "stream",
     "text": [
      " y\n"
     ]
    },
    {
     "name": "stderr",
     "output_type": "stream",
     "text": [
      "given_name : jessica\n",
      "surname : bastiaans\n",
      "address_1 : beazley crescent\n",
      "suburb : ingleburn\n",
      "postcode : 3028\n",
      "date_of_birth : 19270912\n",
      "\n",
      "given_name : jessiac\n",
      "surname : bastiaans\n",
      "address_1 : beazley crescent\n",
      "suburb : ingleburn\n",
      "postcode : 3029\n",
      "date_of_birth : 19270912\n",
      "\n",
      "11/10 positive, 0/10 negative\n",
      "Do these records refer to the same thing?\n",
      "(y)es / (n)o / (u)nsure / (f)inished / (p)revious\n"
     ]
    },
    {
     "name": "stdin",
     "output_type": "stream",
     "text": [
      " y\n"
     ]
    },
    {
     "name": "stderr",
     "output_type": "stream",
     "text": [
      "given_name : michael\n",
      "surname : rawlings\n",
      "address_1 : millen street\n",
      "suburb : coolbellup\n",
      "postcode : 2750\n",
      "date_of_birth : 19170417\n",
      "\n",
      "given_name : michael\n",
      "surname : rawlings\n",
      "address_1 : millen sy ryeet\n",
      "suburb : coolbellup\n",
      "postcode : 2750\n",
      "date_of_birth : nan\n",
      "\n",
      "12/10 positive, 0/10 negative\n",
      "Do these records refer to the same thing?\n",
      "(y)es / (n)o / (u)nsure / (f)inished / (p)revious\n"
     ]
    },
    {
     "name": "stdin",
     "output_type": "stream",
     "text": [
      " y\n"
     ]
    },
    {
     "name": "stderr",
     "output_type": "stream",
     "text": [
      "given_name : sarah\n",
      "surname : dixon\n",
      "address_1 : corella place\n",
      "suburb : kelmscott\n",
      "postcode : 2304\n",
      "date_of_birth : 19911101\n",
      "\n",
      "given_name : sarah\n",
      "surname : dixln\n",
      "address_1 : corellawplace\n",
      "suburb : kelmscott\n",
      "postcode : 2304\n",
      "date_of_birth : nan\n",
      "\n",
      "13/10 positive, 0/10 negative\n",
      "Do these records refer to the same thing?\n",
      "(y)es / (n)o / (u)nsure / (f)inished / (p)revious\n"
     ]
    },
    {
     "name": "stdin",
     "output_type": "stream",
     "text": [
      " y\n"
     ]
    },
    {
     "name": "stderr",
     "output_type": "stream",
     "text": [
      "given_name : simon\n",
      "surname : clarke\n",
      "address_1 : verdon street\n",
      "suburb : warracknabeal\n",
      "postcode : 2777\n",
      "date_of_birth : 19630730\n",
      "\n",
      "given_name : simone\n",
      "surname : clarke\n",
      "address_1 : lambriggstreet\n",
      "suburb : kirribilli\n",
      "postcode : 2765\n",
      "date_of_birth : 19930504\n",
      "\n",
      "14/10 positive, 0/10 negative\n",
      "Do these records refer to the same thing?\n",
      "(y)es / (n)o / (u)nsure / (f)inished / (p)revious\n"
     ]
    },
    {
     "name": "stdin",
     "output_type": "stream",
     "text": [
      " n\n"
     ]
    },
    {
     "name": "stderr",
     "output_type": "stream",
     "text": [
      "given_name : matthew\n",
      "surname : apted\n",
      "address_1 : atherton street\n",
      "suburb : port macquarie\n",
      "postcode : 3183\n",
      "date_of_birth : 19590825\n",
      "\n",
      "given_name : matthew\n",
      "surname : apted\n",
      "address_1 : nan\n",
      "suburb : toowoon bay\n",
      "postcode : 2120\n",
      "date_of_birth : 19540130\n",
      "\n",
      "14/10 positive, 1/10 negative\n",
      "Do these records refer to the same thing?\n",
      "(y)es / (n)o / (u)nsure / (f)inished / (p)revious\n"
     ]
    },
    {
     "name": "stdin",
     "output_type": "stream",
     "text": [
      " n\n"
     ]
    },
    {
     "name": "stderr",
     "output_type": "stream",
     "text": [
      "given_name : georgia\n",
      "surname : goode\n",
      "address_1 : nan\n",
      "suburb : paddington\n",
      "postcode : 3141\n",
      "date_of_birth : 19621216\n",
      "\n",
      "given_name : annik a\n",
      "surname : boyle\n",
      "address_1 : nan\n",
      "suburb : paddington\n",
      "postcode : 3175\n",
      "date_of_birth : nan\n",
      "\n",
      "14/10 positive, 2/10 negative\n",
      "Do these records refer to the same thing?\n",
      "(y)es / (n)o / (u)nsure / (f)inished / (p)revious\n"
     ]
    },
    {
     "name": "stdin",
     "output_type": "stream",
     "text": [
      " n\n"
     ]
    },
    {
     "name": "stderr",
     "output_type": "stream",
     "text": [
      "given_name : ellen\n",
      "surname : harrington\n",
      "address_1 : kardang street\n",
      "suburb : balhannah\n",
      "postcode : 3168\n",
      "date_of_birth : 19130627\n",
      "\n",
      "given_name : bethany\n",
      "surname : eyer\n",
      "address_1 : madigan street\n",
      "suburb : balhannah\n",
      "postcode : 3165\n",
      "date_of_birth : 19170606\n",
      "\n",
      "14/10 positive, 3/10 negative\n",
      "Do these records refer to the same thing?\n",
      "(y)es / (n)o / (u)nsure / (f)inished / (p)revious\n"
     ]
    },
    {
     "name": "stdin",
     "output_type": "stream",
     "text": [
      " n\n"
     ]
    },
    {
     "name": "stderr",
     "output_type": "stream",
     "text": [
      "given_name : robert\n",
      "surname : george\n",
      "address_1 : erldunda circuit\n",
      "suburb : picton\n",
      "postcode : 4814\n",
      "date_of_birth : 19400601\n",
      "\n",
      "given_name : george\n",
      "surname : robert\n",
      "address_1 : nan\n",
      "suburb : picton\n",
      "postcode : 4814\n",
      "date_of_birth : 19400601\n",
      "\n",
      "14/10 positive, 4/10 negative\n",
      "Do these records refer to the same thing?\n",
      "(y)es / (n)o / (u)nsure / (f)inished / (p)revious\n"
     ]
    },
    {
     "name": "stdin",
     "output_type": "stream",
     "text": [
      " y\n"
     ]
    },
    {
     "name": "stderr",
     "output_type": "stream",
     "text": [
      "given_name : thomas\n",
      "surname : alderson\n",
      "address_1 : temperley street\n",
      "suburb : rosslea\n",
      "postcode : 2195\n",
      "date_of_birth : 19380411\n",
      "\n",
      "given_name : lucy\n",
      "surname : alddrson\n",
      "address_1 : temperley street\n",
      "suburb : rosslea\n",
      "postcode : 2159\n",
      "date_of_birth : 19380411\n",
      "\n",
      "15/10 positive, 4/10 negative\n",
      "Do these records refer to the same thing?\n",
      "(y)es / (n)o / (u)nsure / (f)inished / (p)revious\n"
     ]
    },
    {
     "name": "stdin",
     "output_type": "stream",
     "text": [
      " y\n"
     ]
    },
    {
     "name": "stderr",
     "output_type": "stream",
     "text": [
      "given_name : jayden\n",
      "surname : markellos\n",
      "address_1 : la perouse street\n",
      "suburb : toorak\n",
      "postcode : 3121\n",
      "date_of_birth : 19620130\n",
      "\n",
      "given_name : jade\n",
      "surname : markakis\n",
      "address_1 : la perouse street\n",
      "suburb : ascot\n",
      "postcode : 3121\n",
      "date_of_birth : 19020516\n",
      "\n",
      "16/10 positive, 4/10 negative\n",
      "Do these records refer to the same thing?\n",
      "(y)es / (n)o / (u)nsure / (f)inished / (p)revious\n"
     ]
    },
    {
     "name": "stdin",
     "output_type": "stream",
     "text": [
      " n\n"
     ]
    },
    {
     "name": "stderr",
     "output_type": "stream",
     "text": [
      "given_name : erin\n",
      "surname : fassina\n",
      "address_1 : croton street\n",
      "suburb : werrington\n",
      "postcode : 2066\n",
      "date_of_birth : 19561212\n",
      "\n",
      "given_name : eri\n",
      "surname : calrke\n",
      "address_1 : patten street\n",
      "suburb : mourya\n",
      "postcode : 2066\n",
      "date_of_birth : 19690410\n",
      "\n",
      "16/10 positive, 5/10 negative\n",
      "Do these records refer to the same thing?\n",
      "(y)es / (n)o / (u)nsure / (f)inished / (p)revious\n"
     ]
    },
    {
     "name": "stdin",
     "output_type": "stream",
     "text": [
      " n\n"
     ]
    },
    {
     "name": "stderr",
     "output_type": "stream",
     "text": [
      "given_name : hari\n",
      "surname : warnock\n",
      "address_1 : jansz crescent\n",
      "suburb : broadmeadows\n",
      "postcode : 2486\n",
      "date_of_birth : 19350219\n",
      "\n",
      "given_name : rilye\n",
      "surname : son\n",
      "address_1 : duffy street\n",
      "suburb : nan\n",
      "postcode : 2486\n",
      "date_of_birth : 19851219\n",
      "\n",
      "16/10 positive, 6/10 negative\n",
      "Do these records refer to the same thing?\n",
      "(y)es / (n)o / (u)nsure / (f)inished / (p)revious\n"
     ]
    },
    {
     "name": "stdin",
     "output_type": "stream",
     "text": [
      " n\n"
     ]
    },
    {
     "name": "stderr",
     "output_type": "stream",
     "text": [
      "given_name : kyle\n",
      "surname : wegman\n",
      "address_1 : clyde place\n",
      "suburb : modbury\n",
      "postcode : 4213\n",
      "date_of_birth : 19790106\n",
      "\n",
      "given_name : hannah\n",
      "surname : donaldson\n",
      "address_1 : goldig place\n",
      "suburb : mcmahons point\n",
      "postcode : 4213\n",
      "date_of_birth : 19390126\n",
      "\n",
      "16/10 positive, 7/10 negative\n",
      "Do these records refer to the same thing?\n",
      "(y)es / (n)o / (u)nsure / (f)inished / (p)revious\n"
     ]
    },
    {
     "name": "stdin",
     "output_type": "stream",
     "text": [
      " n\n"
     ]
    },
    {
     "name": "stderr",
     "output_type": "stream",
     "text": [
      "given_name : timothy\n",
      "surname : matthews\n",
      "address_1 : blandon place\n",
      "suburb : mill park\n",
      "postcode : 3184\n",
      "date_of_birth : 19560930\n",
      "\n",
      "given_name : zac\n",
      "surname : mashbperg\n",
      "address_1 : barraclough crescent\n",
      "suburb : ballina\n",
      "postcode : 3184\n",
      "date_of_birth : 19680330\n",
      "\n",
      "16/10 positive, 8/10 negative\n",
      "Do these records refer to the same thing?\n",
      "(y)es / (n)o / (u)nsure / (f)inished / (p)revious\n"
     ]
    },
    {
     "name": "stdin",
     "output_type": "stream",
     "text": [
      " n\n"
     ]
    },
    {
     "name": "stderr",
     "output_type": "stream",
     "text": [
      "given_name : natalia\n",
      "surname : maczkowiack\n",
      "address_1 : badcoe street\n",
      "suburb : south turramurra\n",
      "postcode : 3199\n",
      "date_of_birth : 19830221\n",
      "\n",
      "given_name : nan\n",
      "surname : mainsbridge\n",
      "address_1 : cazaly close\n",
      "suburb : colac\n",
      "postcode : 3199\n",
      "date_of_birth : 19110409\n",
      "\n",
      "16/10 positive, 9/10 negative\n",
      "Do these records refer to the same thing?\n",
      "(y)es / (n)o / (u)nsure / (f)inished / (p)revious\n"
     ]
    },
    {
     "name": "stdin",
     "output_type": "stream",
     "text": [
      " n\n"
     ]
    },
    {
     "name": "stderr",
     "output_type": "stream",
     "text": [
      "given_name : joshua\n",
      "surname : nguyen\n",
      "address_1 : beattie crescent\n",
      "suburb : casino\n",
      "postcode : 3029\n",
      "date_of_birth : 19240622\n",
      "\n",
      "given_name : jessiac\n",
      "surname : bastiaans\n",
      "address_1 : beazley crescent\n",
      "suburb : ingleburn\n",
      "postcode : 3029\n",
      "date_of_birth : 19270912\n",
      "\n",
      "16/10 positive, 10/10 negative\n",
      "Do these records refer to the same thing?\n",
      "(y)es / (n)o / (u)nsure / (f)inished / (p)revious\n"
     ]
    },
    {
     "name": "stdin",
     "output_type": "stream",
     "text": [
      " f\n"
     ]
    },
    {
     "name": "stderr",
     "output_type": "stream",
     "text": [
      "Finished labeling\n"
     ]
    }
   ],
   "source": [
    "### Début du processus d'annotation par active learning\n",
    "dedupe.console_label(linker)"
   ]
  },
  {
   "cell_type": "markdown",
   "metadata": {},
   "source": [
    "### Entraînement du modèle de classification"
   ]
  },
  {
   "cell_type": "markdown",
   "metadata": {},
   "source": [
    "Une fois un nombre satisfaisant de paires annotées, on peut procéder à l'entraînement du modèle. L'algorithme va affiner les règles de blocage, puis entraîner une régression logistique pénalisée.\n",
    "Les règles de blocage sont définies de façon à limiter au maximum le nombre de paires conservées, tout en conservant la plus grande proportion possible de paires annotées positivement dans l'étape précédente.\n",
    "\n",
    "L'utilisateur peut jouer sur le paramètre `recall`, qui correspond à la proportion de paires annotées positivement qui seront conservées après application des règles de blocage. Une valeur proche de 0 pour ce paramètre va conduire à des règles de blocage assez strictes (on va retenir peu de paires), et inversement pour une valeur proche de 1. "
   ]
  },
  {
   "cell_type": "code",
   "execution_count": 14,
   "metadata": {
    "tags": []
   },
   "outputs": [],
   "source": [
    "### Entraînement du modèle de classification (régression logistique)\n",
    "linker.train(recall = 0.8)"
   ]
  },
  {
   "cell_type": "markdown",
   "metadata": {},
   "source": [
    "### Prédiction du statut de chaque paire"
   ]
  },
  {
   "cell_type": "markdown",
   "metadata": {},
   "source": [
    "Finalement, on peut demander au modèle de prédire le statut de chaque paire. En pratique, on obtient une liste contenant l'ensemble des paires liées par le modèle, ainsi que la probabilité associée. Par défaut, le modèle ne lie une paire que si la probabilité associée dépasse 0.5. Une étape de résolution des conflits est automatiquement mise en œuvre, de façon à ce qu'un individu du premier fichier soit apparié à au plus un individu du second fichier, et inversement. Si cette contrainte ne correspond pas aux fichiers à apparier (par exemple si l'un des deux fichiers contient des doublons), il est possible de changer la méthode de résolution des conflits via le paramètre `constraint`.\n",
    "\n",
    "Par ailleurs, fixer le paramètre `threshold` à 0 permet de récupérer toutes les paires (après résolution des conflits), ce qui laisse ensuite la possibilité de les analyser plus en détail avant de décider du seuil."
   ]
  },
  {
   "cell_type": "code",
   "execution_count": 15,
   "metadata": {},
   "outputs": [
    {
     "name": "stdout",
     "output_type": "stream",
     "text": [
      "Nombre de paires liées :  4699\n"
     ]
    }
   ],
   "source": [
    "### Prédiction du statut de chaque paire\n",
    "linked_records = linker.join(dfA_dict, dfB_dict, threshold = 0.5)\n",
    "print('Nombre de paires liées : ', len(linked_records))"
   ]
  },
  {
   "cell_type": "code",
   "execution_count": 16,
   "metadata": {},
   "outputs": [
    {
     "data": {
      "text/plain": [
       "[(('rec-999-org', 'rec-999-dup-0'), 0.93820375),\n",
       " (('rec-996-org', 'rec-996-dup-0'), 0.93820375),\n",
       " (('rec-991-org', 'rec-991-dup-0'), 0.93820375),\n",
       " (('rec-976-org', 'rec-976-dup-0'), 0.93820375),\n",
       " (('rec-975-org', 'rec-975-dup-0'), 0.93820375),\n",
       " (('rec-97-org', 'rec-97-dup-0'), 0.93820375),\n",
       " (('rec-960-org', 'rec-960-dup-0'), 0.93820375),\n",
       " (('rec-929-org', 'rec-929-dup-0'), 0.93820375),\n",
       " (('rec-927-org', 'rec-927-dup-0'), 0.93820375),\n",
       " (('rec-915-org', 'rec-915-dup-0'), 0.93820375)]"
      ]
     },
     "execution_count": 16,
     "metadata": {},
     "output_type": "execute_result"
    }
   ],
   "source": [
    "### Affichage des 10 paires les plus probables\n",
    "linked_records[:10]"
   ]
  },
  {
   "cell_type": "markdown",
   "metadata": {},
   "source": [
    "### Évaluation de la qualité"
   ]
  },
  {
   "cell_type": "markdown",
   "metadata": {},
   "source": [
    "Évaluer la qualité d'un appariement est une étape primordiale mais souvent difficile à réaliser car on ne connaît pas le vrai statut de chaque paire. Il faut donc utiliser un échantillon représentatif annoté. (Attention, l'échantillon annoté via le processus d'_active learning_ n'est a priori pas représentatif de l'ensemble des paires. Évaluer les résultats sur cet échantillon conduirait sans doute à une estimation biaisée.)\n",
    "\n",
    "Ici, la tâche est plus simple puisque nous travaillons avec des données générées. On peut donc calculer les résultats sur l'ensemble des individus.\n",
    "\n",
    "Le package dedupe ne propose pas de fonction pour évaluer les résultats. Il faut donc dans un premier temps convertir la liste des paires liées en un DataFrame pandas et procéder à quelques manipulations pour calculer les mesures de qualité classiques."
   ]
  },
  {
   "cell_type": "code",
   "execution_count": 17,
   "metadata": {},
   "outputs": [],
   "source": [
    "def clean_results_dedupe(result):\n",
    "    \"\"\"\n",
    "    Formats the output from dedupe to match the output from the record\n",
    "    linkage package.\n",
    "\n",
    "            Parameters:\n",
    "                    result (list): output from the linkage with dedupe.\n",
    "                        It is a list of pairs to be linked, with the\n",
    "                        associated predicted match probability.\n",
    "\n",
    "            Returns:\n",
    "                    cleaned_results (pandas DataFrame): Predicted matches\n",
    "    \"\"\"\n",
    "    \n",
    "    #Create dataframe from list of tuples\n",
    "    cleaned_results = pd.DataFrame(result, columns = ['id', 'classification'])\n",
    "    \n",
    "    #Split the id in two columns : rec_id_1 and rec_id_2\n",
    "    cleaned_results[['rec_id_1', 'rec_id_2']] = pd.DataFrame(cleaned_results['id'].tolist())\n",
    "    \n",
    "    #Remove the id column\n",
    "    cleaned_results.drop('id', axis=1, inplace=True)\n",
    "    \n",
    "    # Transform the probability into a predicted match status. Dedupe\n",
    "    # outputs only matches so the predicted match status is always 1.\n",
    "    cleaned_results['classification'] = 1\n",
    "    \n",
    "    return cleaned_results\n",
    "\n",
    "def compute_performance_metrics_FEBRL(linkage_output, dataset_size):\n",
    "    \"\"\"\n",
    "    Compute performance metrics of a record linkage process on FEBRL synthetic data.\n",
    "    The assumption is that the size of the two datasets is the same and every record \n",
    "    from dataset A has exactly one match in dataset B.\n",
    "\n",
    "            Parameters:\n",
    "                    linkage output (pandas Series): Output from the linkage process\n",
    "                    dataset_size (int): Length of both datasets to be linked\n",
    "\n",
    "            Returns:\n",
    "                    performance_metrics (tuple): Tuple of metrics (TP, TN, FP, FN, precision, recall, F-measure)\n",
    "    \"\"\"\n",
    "    linkage_output = linkage_output.reset_index()\n",
    "    linkage_output['actual'] = (linkage_output['rec_id_1'].str.extract(r'(rec-\\d+)') \n",
    "                                == linkage_output['rec_id_2'].str.extract(r'(rec-\\d+)'))\n",
    "    \n",
    "    TP = sum(linkage_output['classification'] & linkage_output['actual'])\n",
    "    FP = sum(linkage_output['classification'] & ~linkage_output['actual'])\n",
    "    #Pairs that were removed in the indexing phase must be taken into account to compute True and False negatives\n",
    "    FN = dataset_size - TP\n",
    "    TN = dataset_size*dataset_size - dataset_size - FP\n",
    "    \n",
    "    precision = TP / (TP + FP)\n",
    "    recall = TP / (TP + FN)\n",
    "    Fscore = 2 * precision * recall / (precision + recall)\n",
    "    performance_metrics = (TP, TN, FP, FN, precision, recall, Fscore)\n",
    "    return(performance_metrics)\n",
    "    \n",
    "def print_performance_metrics(linkage_output, dataset_size):\n",
    "    \"\"\"\n",
    "    Prints performance metrics of a record linkage process on synthetic data.\n",
    "    The assumption is that the size of the two datasets is the same and every record \n",
    "    from dataset A has exactly one match in dataset B.\n",
    "\n",
    "            Parameters:\n",
    "                    linkage output (pandas Series): Output from the linkage process\n",
    "                    dataset_size (int): Length of both datasets to be linked\n",
    "\n",
    "            Returns:\n",
    "                    None\n",
    "    \"\"\"\n",
    "    TP, TN, FP, FN, precision, recall, Fscore = compute_performance_metrics_FEBRL(linkage_output, dataset_size)\n",
    "    print(f\"Vrais positifs : {TP:,}\".replace(',', ' '))\n",
    "    print(f\"Vrais négatifs : {TN:,}\".replace(',', ' '))\n",
    "    print(f\"Faux positifs : {FP:,}\".replace(',', ' '))\n",
    "    print(f\"Faux négatifs : {FN:,}\".replace(',', ' '))\n",
    "    print(f\"Précision : {precision:.4}\")\n",
    "    print(f\"Rappel : {recall:.4}\")\n",
    "    print(f\"F-mesure : {Fscore:.4}\")"
   ]
  },
  {
   "cell_type": "code",
   "execution_count": 18,
   "metadata": {},
   "outputs": [
    {
     "name": "stdout",
     "output_type": "stream",
     "text": [
      "Vrais positifs : 4 699\n",
      "Vrais négatifs : 24 995 000\n",
      "Faux positifs : 0\n",
      "Faux négatifs : 301\n",
      "Précision : 1.0\n",
      "Rappel : 0.9398\n",
      "F-mesure : 0.969\n"
     ]
    }
   ],
   "source": [
    "cleaned_results = clean_results_dedupe(linked_records)\n",
    "print_performance_metrics(cleaned_results, 5000)"
   ]
  },
  {
   "cell_type": "markdown",
   "metadata": {},
   "source": [
    "Les résultats semblent satisfaisants. En particulier, il n'y a aucun faux positif ou presque (cela peut dépendre des choix effectués lors de l'annotation), probablement dû au fait que les erreurs générées sur le fichier B sont assez légères et ne perturbent donc pas trop l'algorithme d'appariement.\n",
    "\n",
    "Quoi qu'il en soit, ces résultats sont propres aux deux fichiers appariés. Un autre jeu de fichiers, avec des données de qualité différente et des types d'erreurs différents, donnerait un tout autre résultat.\n",
    "\n",
    "Voici un exemple de paire que le modèle a manquée. Il a particulièrement de mal avec les inversions de champs."
   ]
  },
  {
   "cell_type": "code",
   "execution_count": 33,
   "metadata": {},
   "outputs": [
    {
     "data": {
      "text/plain": [
       "{'given_name': 'nikita',\n",
       " 'surname': 'mcgregor',\n",
       " 'street_number': '1',\n",
       " 'address_1': 'sherwood circuit',\n",
       " 'address_2': 'cooranga',\n",
       " 'suburb': 'frankston',\n",
       " 'postcode': '3892',\n",
       " 'state': 'sa',\n",
       " 'date_of_birth': '19250127',\n",
       " 'soc_sec_id': '5134549'}"
      ]
     },
     "execution_count": 33,
     "metadata": {},
     "output_type": "execute_result"
    }
   ],
   "source": [
    "dfA_dict['rec-992-org']"
   ]
  },
  {
   "cell_type": "code",
   "execution_count": 32,
   "metadata": {},
   "outputs": [
    {
     "data": {
      "text/plain": [
       "{'given_name': 'mcgregor',\n",
       " 'surname': 'nikita',\n",
       " 'street_number': '1',\n",
       " 'address_1': 'cooranlga',\n",
       " 'address_2': 'sherwood ircuit',\n",
       " 'suburb': 'frankston',\n",
       " 'postcode': '3892',\n",
       " 'state': 'sa',\n",
       " 'date_of_birth': '19250127',\n",
       " 'soc_sec_id': '9742298'}"
      ]
     },
     "execution_count": 32,
     "metadata": {},
     "output_type": "execute_result"
    }
   ],
   "source": [
    "dfB_dict['rec-992-dup-0']"
   ]
  },
  {
   "cell_type": "markdown",
   "metadata": {},
   "source": [
    "## Exemple de code complet pour un appariement"
   ]
  },
  {
   "cell_type": "code",
   "execution_count": 23,
   "metadata": {
    "collapsed": true,
    "jupyter": {
     "outputs_hidden": true
    },
    "tags": []
   },
   "outputs": [
    {
     "name": "stderr",
     "output_type": "stream",
     "text": [
      "given_name : hayden\n",
      "surname : stapley\n",
      "address_1 : tindale street\n",
      "suburb : cromer heights\n",
      "postcode : 4125\n",
      "date_of_birth : nan\n",
      "\n",
      "given_name : hayden\n",
      "surname : stapley\n",
      "address_1 : tindale street\n",
      "suburb : cromer heights\n",
      "postcode : 4125\n",
      "date_of_birth : nan\n",
      "\n",
      "0/10 positive, 0/10 negative\n",
      "Do these records refer to the same thing?\n",
      "(y)es / (n)o / (u)nsure / (f)inished\n"
     ]
    },
    {
     "name": "stdin",
     "output_type": "stream",
     "text": [
      " y\n"
     ]
    },
    {
     "name": "stderr",
     "output_type": "stream",
     "text": [
      "given_name : kirra\n",
      "surname : browne\n",
      "address_1 : shoalhaven avenue\n",
      "suburb : surry hills\n",
      "postcode : 3042\n",
      "date_of_birth : 19430407\n",
      "\n",
      "given_name : kirra\n",
      "surname : browne\n",
      "address_1 : shoalhaven avenue\n",
      "suburb : surry hills\n",
      "postcode : 3042\n",
      "date_of_birth : 19403407\n",
      "\n",
      "1/10 positive, 0/10 negative\n",
      "Do these records refer to the same thing?\n",
      "(y)es / (n)o / (u)nsure / (f)inished / (p)revious\n"
     ]
    },
    {
     "name": "stdin",
     "output_type": "stream",
     "text": [
      " y\n"
     ]
    },
    {
     "name": "stderr",
     "output_type": "stream",
     "text": [
      "given_name : samuel\n",
      "surname : princehorn\n",
      "address_1 : gould street\n",
      "suburb : warra\n",
      "postcode : 3152\n",
      "date_of_birth : 19761209\n",
      "\n",
      "given_name : samuel\n",
      "surname : princehorn\n",
      "address_1 : gould street\n",
      "suburb : warra\n",
      "postcode : 3152\n",
      "date_of_birth : 19716209\n",
      "\n",
      "2/10 positive, 0/10 negative\n",
      "Do these records refer to the same thing?\n",
      "(y)es / (n)o / (u)nsure / (f)inished / (p)revious\n"
     ]
    },
    {
     "name": "stdin",
     "output_type": "stream",
     "text": [
      " y\n"
     ]
    },
    {
     "name": "stderr",
     "output_type": "stream",
     "text": [
      "given_name : dale\n",
      "surname : laundy\n",
      "address_1 : miller street\n",
      "suburb : redhead\n",
      "postcode : 6112\n",
      "date_of_birth : nan\n",
      "\n",
      "given_name : dale\n",
      "surname : laundy\n",
      "address_1 : miller street\n",
      "suburb : redh ead\n",
      "postcode : 6112\n",
      "date_of_birth : nan\n",
      "\n",
      "3/10 positive, 0/10 negative\n",
      "Do these records refer to the same thing?\n",
      "(y)es / (n)o / (u)nsure / (f)inished / (p)revious\n"
     ]
    },
    {
     "name": "stdin",
     "output_type": "stream",
     "text": [
      " y\n"
     ]
    },
    {
     "name": "stderr",
     "output_type": "stream",
     "text": [
      "given_name : shannon\n",
      "surname : hope\n",
      "address_1 : nan\n",
      "suburb : tennant creek\n",
      "postcode : 4017\n",
      "date_of_birth : 19300617\n",
      "\n",
      "given_name : shannon\n",
      "surname : hope\n",
      "address_1 : nan\n",
      "suburb : tennant creek\n",
      "postcode : 4017\n",
      "date_of_birth : 19300617\n",
      "\n",
      "4/10 positive, 0/10 negative\n",
      "Do these records refer to the same thing?\n",
      "(y)es / (n)o / (u)nsure / (f)inished / (p)revious\n"
     ]
    },
    {
     "name": "stdin",
     "output_type": "stream",
     "text": [
      " y\n"
     ]
    },
    {
     "name": "stderr",
     "output_type": "stream",
     "text": [
      "given_name : abii\n",
      "surname : hedaux\n",
      "address_1 : sparkes close\n",
      "suburb : bribie island\n",
      "postcode : 5322\n",
      "date_of_birth : 19390824\n",
      "\n",
      "given_name : abii\n",
      "surname : hedaux\n",
      "address_1 : sparkes llose\n",
      "suburb : bribie island\n",
      "postcode : 5322\n",
      "date_of_birth : 19390824\n",
      "\n",
      "5/10 positive, 0/10 negative\n",
      "Do these records refer to the same thing?\n",
      "(y)es / (n)o / (u)nsure / (f)inished / (p)revious\n"
     ]
    },
    {
     "name": "stdin",
     "output_type": "stream",
     "text": [
      " y\n"
     ]
    },
    {
     "name": "stderr",
     "output_type": "stream",
     "text": [
      "given_name : ainsley\n",
      "surname : shepherdson\n",
      "address_1 : jackie howe crescent\n",
      "suburb : moorooka\n",
      "postcode : 2261\n",
      "date_of_birth : 19161125\n",
      "\n",
      "given_name : ainsley\n",
      "surname : shepherdson\n",
      "address_1 : jackie howeocrescent\n",
      "suburb : moorooka\n",
      "postcode : 2261\n",
      "date_of_birth : 19480630\n",
      "\n",
      "6/10 positive, 0/10 negative\n",
      "Do these records refer to the same thing?\n",
      "(y)es / (n)o / (u)nsure / (f)inished / (p)revious\n"
     ]
    },
    {
     "name": "stdin",
     "output_type": "stream",
     "text": [
      " y\n"
     ]
    },
    {
     "name": "stderr",
     "output_type": "stream",
     "text": [
      "given_name : chloe\n",
      "surname : musolino\n",
      "address_1 : warrumbul street\n",
      "suburb : brighton\n",
      "postcode : 3782\n",
      "date_of_birth : nan\n",
      "\n",
      "given_name : chloe\n",
      "surname : musoilno\n",
      "address_1 : warrumbmul street\n",
      "suburb : brighton\n",
      "postcode : 3728\n",
      "date_of_birth : nan\n",
      "\n",
      "7/10 positive, 0/10 negative\n",
      "Do these records refer to the same thing?\n",
      "(y)es / (n)o / (u)nsure / (f)inished / (p)revious\n"
     ]
    },
    {
     "name": "stdin",
     "output_type": "stream",
     "text": [
      " y\n"
     ]
    },
    {
     "name": "stderr",
     "output_type": "stream",
     "text": [
      "given_name : tayah\n",
      "surname : pascoe\n",
      "address_1 : o'halloran circuit\n",
      "suburb : salisbury east\n",
      "postcode : 2285\n",
      "date_of_birth : 19410809\n",
      "\n",
      "given_name : tayah\n",
      "surname : pascoe\n",
      "address_1 : o'halloran circuit\n",
      "suburb : salisburh east\n",
      "postcode : 2285\n",
      "date_of_birth : 19410809\n",
      "\n",
      "8/10 positive, 0/10 negative\n",
      "Do these records refer to the same thing?\n",
      "(y)es / (n)o / (u)nsure / (f)inished / (p)revious\n"
     ]
    },
    {
     "name": "stdin",
     "output_type": "stream",
     "text": [
      " y\n"
     ]
    },
    {
     "name": "stderr",
     "output_type": "stream",
     "text": [
      "given_name : robert\n",
      "surname : clarke\n",
      "address_1 : miller street\n",
      "suburb : port macquarie\n",
      "postcode : 3337\n",
      "date_of_birth : 19601221\n",
      "\n",
      "given_name : robert\n",
      "surname : clarke\n",
      "address_1 : miller street\n",
      "suburb : port macgquarie\n",
      "postcode : 3337\n",
      "date_of_birth : 19601221\n",
      "\n",
      "9/10 positive, 0/10 negative\n",
      "Do these records refer to the same thing?\n",
      "(y)es / (n)o / (u)nsure / (f)inished / (p)revious\n"
     ]
    },
    {
     "name": "stdin",
     "output_type": "stream",
     "text": [
      " y\n"
     ]
    },
    {
     "name": "stderr",
     "output_type": "stream",
     "text": [
      "given_name : joel\n",
      "surname : londesborough\n",
      "address_1 : arthur circle\n",
      "suburb : kings park\n",
      "postcode : 5606\n",
      "date_of_birth : 19480110\n",
      "\n",
      "given_name : joel\n",
      "surname : londesborough\n",
      "address_1 : arthur cricle\n",
      "suburb : kings park\n",
      "postcode : 5606\n",
      "date_of_birth : 19480110\n",
      "\n",
      "10/10 positive, 0/10 negative\n",
      "Do these records refer to the same thing?\n",
      "(y)es / (n)o / (u)nsure / (f)inished / (p)revious\n"
     ]
    },
    {
     "name": "stdin",
     "output_type": "stream",
     "text": [
      " y\n"
     ]
    },
    {
     "name": "stderr",
     "output_type": "stream",
     "text": [
      "given_name : thomas\n",
      "surname : ryan\n",
      "address_1 : meredith circuit\n",
      "suburb : dunsborough\n",
      "postcode : 4215\n",
      "date_of_birth : 19270407\n",
      "\n",
      "given_name : thomas\n",
      "surname : ryan\n",
      "address_1 : mereditheircuit\n",
      "suburb : dunsborough\n",
      "postcode : 4215\n",
      "date_of_birth : 19270407\n",
      "\n",
      "11/10 positive, 0/10 negative\n",
      "Do these records refer to the same thing?\n",
      "(y)es / (n)o / (u)nsure / (f)inished / (p)revious\n"
     ]
    },
    {
     "name": "stdin",
     "output_type": "stream",
     "text": [
      " y\n"
     ]
    },
    {
     "name": "stderr",
     "output_type": "stream",
     "text": [
      "given_name : charlie\n",
      "surname : thorpe\n",
      "address_1 : edman close\n",
      "suburb : bull creek\n",
      "postcode : 2066\n",
      "date_of_birth : 19620923\n",
      "\n",
      "given_name : charlie\n",
      "surname : thorpe\n",
      "address_1 : edmanvclose\n",
      "suburb : bull creek\n",
      "postcode : 2066\n",
      "date_of_birth : 19620923\n",
      "\n",
      "12/10 positive, 0/10 negative\n",
      "Do these records refer to the same thing?\n",
      "(y)es / (n)o / (u)nsure / (f)inished / (p)revious\n"
     ]
    },
    {
     "name": "stdin",
     "output_type": "stream",
     "text": [
      " y\n"
     ]
    },
    {
     "name": "stderr",
     "output_type": "stream",
     "text": [
      "given_name : mia\n",
      "surname : lock\n",
      "address_1 : morrow street\n",
      "suburb : woodburn\n",
      "postcode : 2810\n",
      "date_of_birth : 19650307\n",
      "\n",
      "given_name : mia\n",
      "surname : lock\n",
      "address_1 : morrow treet\n",
      "suburb : woodburn\n",
      "postcode : 2810\n",
      "date_of_birth : 19650307\n",
      "\n",
      "13/10 positive, 0/10 negative\n",
      "Do these records refer to the same thing?\n",
      "(y)es / (n)o / (u)nsure / (f)inished / (p)revious\n"
     ]
    },
    {
     "name": "stdin",
     "output_type": "stream",
     "text": [
      " y\n"
     ]
    },
    {
     "name": "stderr",
     "output_type": "stream",
     "text": [
      "given_name : joshua\n",
      "surname : leaver\n",
      "address_1 : nardoo crescent\n",
      "suburb : st lucia\n",
      "postcode : 2167\n",
      "date_of_birth : 19650306\n",
      "\n",
      "given_name : joshua\n",
      "surname : leaver\n",
      "address_1 : nardoo crescent\n",
      "suburb : st luca\n",
      "postcode : 2167\n",
      "date_of_birth : 19650306\n",
      "\n",
      "14/10 positive, 0/10 negative\n",
      "Do these records refer to the same thing?\n",
      "(y)es / (n)o / (u)nsure / (f)inished / (p)revious\n"
     ]
    },
    {
     "name": "stdin",
     "output_type": "stream",
     "text": [
      " y\n"
     ]
    },
    {
     "name": "stderr",
     "output_type": "stream",
     "text": [
      "given_name : joshua\n",
      "surname : holmyard\n",
      "address_1 : darwin place\n",
      "suburb : dover\n",
      "postcode : 2287\n",
      "date_of_birth : 19710810\n",
      "\n",
      "given_name : joshua\n",
      "surname : holmyard\n",
      "address_1 : darwin place\n",
      "suburb : dovdr\n",
      "postcode : 2287\n",
      "date_of_birth : 19710810\n",
      "\n",
      "15/10 positive, 0/10 negative\n",
      "Do these records refer to the same thing?\n",
      "(y)es / (n)o / (u)nsure / (f)inished / (p)revious\n"
     ]
    },
    {
     "name": "stdin",
     "output_type": "stream",
     "text": [
      " y\n"
     ]
    },
    {
     "name": "stderr",
     "output_type": "stream",
     "text": [
      "given_name : thomas\n",
      "surname : campbell\n",
      "address_1 : windich street\n",
      "suburb : blacktown\n",
      "postcode : 7304\n",
      "date_of_birth : 19640105\n",
      "\n",
      "given_name : thomas\n",
      "surname : campbell\n",
      "address_1 : windich street\n",
      "suburb : blactkown\n",
      "postcode : 7304\n",
      "date_of_birth : 19640105\n",
      "\n",
      "16/10 positive, 0/10 negative\n",
      "Do these records refer to the same thing?\n",
      "(y)es / (n)o / (u)nsure / (f)inished / (p)revious\n"
     ]
    },
    {
     "name": "stdin",
     "output_type": "stream",
     "text": [
      " y\n"
     ]
    },
    {
     "name": "stderr",
     "output_type": "stream",
     "text": [
      "given_name : gianni\n",
      "surname : campbell\n",
      "address_1 : spring range road\n",
      "suburb : putney\n",
      "postcode : 2602\n",
      "date_of_birth : 19911228\n",
      "\n",
      "given_name : gianni\n",
      "surname : campbell\n",
      "address_1 : spring range road\n",
      "suburb : eden\n",
      "postcode : 2602\n",
      "date_of_birth : 19911228\n",
      "\n",
      "17/10 positive, 0/10 negative\n",
      "Do these records refer to the same thing?\n",
      "(y)es / (n)o / (u)nsure / (f)inished / (p)revious\n"
     ]
    },
    {
     "name": "stdin",
     "output_type": "stream",
     "text": [
      " y\n"
     ]
    },
    {
     "name": "stderr",
     "output_type": "stream",
     "text": [
      "given_name : riley\n",
      "surname : okoniewski\n",
      "address_1 : howitt street\n",
      "suburb : rylstone\n",
      "postcode : 6174\n",
      "date_of_birth : 19101121\n",
      "\n",
      "given_name : riley\n",
      "surname : okoniewski\n",
      "address_1 : howitt street\n",
      "suburb : rylstine\n",
      "postcode : 6174\n",
      "date_of_birth : 19030216\n",
      "\n",
      "18/10 positive, 0/10 negative\n",
      "Do these records refer to the same thing?\n",
      "(y)es / (n)o / (u)nsure / (f)inished / (p)revious\n"
     ]
    },
    {
     "name": "stdin",
     "output_type": "stream",
     "text": [
      " y\n"
     ]
    },
    {
     "name": "stderr",
     "output_type": "stream",
     "text": [
      "given_name : tyler\n",
      "surname : dolan\n",
      "address_1 : staaten crescent\n",
      "suburb : ringwood north\n",
      "postcode : 6059\n",
      "date_of_birth : 19821028\n",
      "\n",
      "given_name : tyler\n",
      "surname : doan\n",
      "address_1 : staaten crescent\n",
      "suburb : kingsford\n",
      "postcode : 6059\n",
      "date_of_birth : 19822028\n",
      "\n",
      "19/10 positive, 0/10 negative\n",
      "Do these records refer to the same thing?\n",
      "(y)es / (n)o / (u)nsure / (f)inished / (p)revious\n"
     ]
    },
    {
     "name": "stdin",
     "output_type": "stream",
     "text": [
      " y\n"
     ]
    },
    {
     "name": "stderr",
     "output_type": "stream",
     "text": [
      "given_name : hayden\n",
      "surname : nan\n",
      "address_1 : durham place\n",
      "suburb : young\n",
      "postcode : 3121\n",
      "date_of_birth : 19780531\n",
      "\n",
      "given_name : hayden\n",
      "surname : nan\n",
      "address_1 : durahm pl ace\n",
      "suburb : young\n",
      "postcode : 3121\n",
      "date_of_birth : 19780531\n",
      "\n",
      "20/10 positive, 0/10 negative\n",
      "Do these records refer to the same thing?\n",
      "(y)es / (n)o / (u)nsure / (f)inished / (p)revious\n"
     ]
    },
    {
     "name": "stdin",
     "output_type": "stream",
     "text": [
      " y\n"
     ]
    },
    {
     "name": "stderr",
     "output_type": "stream",
     "text": [
      "given_name : caleb\n",
      "surname : campbell\n",
      "address_1 : rowe place\n",
      "suburb : hamilton\n",
      "postcode : 4214\n",
      "date_of_birth : 19220922\n",
      "\n",
      "given_name : caleb\n",
      "surname : campbell\n",
      "address_1 : nan\n",
      "suburb : hamilton\n",
      "postcode : 4214\n",
      "date_of_birth : 19220922\n",
      "\n",
      "21/10 positive, 0/10 negative\n",
      "Do these records refer to the same thing?\n",
      "(y)es / (n)o / (u)nsure / (f)inished / (p)revious\n"
     ]
    },
    {
     "name": "stdin",
     "output_type": "stream",
     "text": [
      " y\n"
     ]
    },
    {
     "name": "stderr",
     "output_type": "stream",
     "text": [
      "given_name : georgia\n",
      "surname : green\n",
      "address_1 : madigan street\n",
      "suburb : mentone\n",
      "postcode : 3137\n",
      "date_of_birth : 19341105\n",
      "\n",
      "given_name : georgia\n",
      "surname : green\n",
      "address_1 : dexter street\n",
      "suburb : mount riverview\n",
      "postcode : 3137\n",
      "date_of_birth : 19341195\n",
      "\n",
      "22/10 positive, 0/10 negative\n",
      "Do these records refer to the same thing?\n",
      "(y)es / (n)o / (u)nsure / (f)inished / (p)revious\n"
     ]
    },
    {
     "name": "stdin",
     "output_type": "stream",
     "text": [
      " y\n"
     ]
    },
    {
     "name": "stderr",
     "output_type": "stream",
     "text": [
      "given_name : nan\n",
      "surname : clarke\n",
      "address_1 : nan\n",
      "suburb : newcastle\n",
      "postcode : 2220\n",
      "date_of_birth : 19670314\n",
      "\n",
      "given_name : nan\n",
      "surname : clarke\n",
      "address_1 : barangaroo street\n",
      "suburb : blacktown\n",
      "postcode : 2615\n",
      "date_of_birth : 19240224\n",
      "\n",
      "23/10 positive, 0/10 negative\n",
      "Do these records refer to the same thing?\n",
      "(y)es / (n)o / (u)nsure / (f)inished / (p)revious\n"
     ]
    },
    {
     "name": "stdin",
     "output_type": "stream",
     "text": [
      " n\n"
     ]
    },
    {
     "name": "stderr",
     "output_type": "stream",
     "text": [
      "given_name : tiffany\n",
      "surname : nan\n",
      "address_1 : southern close\n",
      "suburb : kirribilli\n",
      "postcode : 3437\n",
      "date_of_birth : 19860301\n",
      "\n",
      "given_name : tiffany\n",
      "surname : van der hoek\n",
      "address_1 : holt place\n",
      "suburb : kirribilli\n",
      "postcode : 0801\n",
      "date_of_birth : 19980630\n",
      "\n",
      "23/10 positive, 1/10 negative\n",
      "Do these records refer to the same thing?\n",
      "(y)es / (n)o / (u)nsure / (f)inished / (p)revious\n"
     ]
    },
    {
     "name": "stdin",
     "output_type": "stream",
     "text": [
      " n\n"
     ]
    },
    {
     "name": "stderr",
     "output_type": "stream",
     "text": [
      "given_name : joel\n",
      "surname : scheerlinck\n",
      "address_1 : boswell crescent\n",
      "suburb : bicton\n",
      "postcode : 2290\n",
      "date_of_birth : 19521024\n",
      "\n",
      "given_name : nan\n",
      "surname : noble\n",
      "address_1 : costello circuit\n",
      "suburb : bicton\n",
      "postcode : 2290\n",
      "date_of_birth : 19710327\n",
      "\n",
      "23/10 positive, 2/10 negative\n",
      "Do these records refer to the same thing?\n",
      "(y)es / (n)o / (u)nsure / (f)inished / (p)revious\n"
     ]
    },
    {
     "name": "stdin",
     "output_type": "stream",
     "text": [
      " n\n"
     ]
    },
    {
     "name": "stderr",
     "output_type": "stream",
     "text": [
      "given_name : nan\n",
      "surname : fullerton\n",
      "address_1 : leichhardt street\n",
      "suburb : chelsea heights\n",
      "postcode : 6107\n",
      "date_of_birth : 19620113\n",
      "\n",
      "given_name : olivia\n",
      "surname : mcnnll\n",
      "address_1 : alberga street\n",
      "suburb : lue\n",
      "postcode : 6107\n",
      "date_of_birth : 19100419\n",
      "\n",
      "23/10 positive, 3/10 negative\n",
      "Do these records refer to the same thing?\n",
      "(y)es / (n)o / (u)nsure / (f)inished / (p)revious\n"
     ]
    },
    {
     "name": "stdin",
     "output_type": "stream",
     "text": [
      " f\n"
     ]
    },
    {
     "name": "stderr",
     "output_type": "stream",
     "text": [
      "Finished labeling\n",
      "/opt/conda/lib/python3.9/site-packages/sklearn/model_selection/_split.py:680: UserWarning: The least populated class in y has only 3 members, which is less than n_splits=5.\n",
      "  warnings.warn(\n"
     ]
    }
   ],
   "source": [
    "### Import des librairies nécessaires\n",
    "import pandas as pd\n",
    "import recordlinkage\n",
    "import dedupe\n",
    "from recordlinkage.datasets import load_febrl4\n",
    "\n",
    "### Chargement des données\n",
    "dfA, dfB = load_febrl4()\n",
    "\n",
    "### Création de dictionnaires pour coller au format requis par le package\n",
    "dfA_dict = dfA.astype(str).to_dict(orient = 'index')\n",
    "dfB_dict = dfB.astype(str).to_dict(orient = 'index')\n",
    "\n",
    "### Déclaration des champs identifiants ainsi que de leur type\n",
    "fields = [{'field' : 'given_name', 'type': 'String', 'has missing':True},\n",
    "          {'field' : 'surname', 'type': 'String', 'has missing':True},\n",
    "          {'field' : 'address_1', 'type': 'String', 'has missing':True},\n",
    "          {'field' : 'suburb', 'type': 'String', 'has missing':True},\n",
    "          {'field' : 'postcode', 'type': 'String'},\n",
    "          {'field' : 'date_of_birth', 'type': 'String', 'has missing':True},\n",
    "         ]\n",
    "\n",
    "### Initialisation de l'objet dedupe\n",
    "linker = dedupe.RecordLink(fields)\n",
    "\n",
    "### Initialisation de l'active learner\n",
    "linker.prepare_training(dfA_dict, dfB_dict, sample_size=500)\n",
    "\n",
    "### Début du processus d'annotation par active learning\n",
    "dedupe.console_label(linker)\n",
    "\n",
    "### Entraînement du modèle de classification (régression logistique)\n",
    "linker.train(recall = 0.8)\n",
    "\n",
    "### Prédiction du statut de chaque paire\n",
    "linked_records = linker.join(dfA_dict, dfB_dict, threshold = 0.5)"
   ]
  }
 ],
 "metadata": {
  "kernelspec": {
   "display_name": "Python 3 (ipykernel)",
   "language": "python",
   "name": "python3"
  },
  "language_info": {
   "codemirror_mode": {
    "name": "ipython",
    "version": 3
   },
   "file_extension": ".py",
   "mimetype": "text/x-python",
   "name": "python",
   "nbconvert_exporter": "python",
   "pygments_lexer": "ipython3",
   "version": "3.10.9"
  }
 },
 "nbformat": 4,
 "nbformat_minor": 4
}
